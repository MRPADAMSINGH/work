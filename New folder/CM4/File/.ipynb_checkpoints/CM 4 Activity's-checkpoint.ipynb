{
 "cells": [
  {
   "cell_type": "markdown",
   "id": "06b917af",
   "metadata": {},
   "source": [
    "<h1 style=\"text-align:center; color:green;\">CM 4 Activity's</h1>"
   ]
  },
  {
   "cell_type": "markdown",
   "id": "d3ca3b0d",
   "metadata": {},
   "source": [
    "### Activity _2"
   ]
  },
  {
   "cell_type": "code",
   "execution_count": null,
   "id": "e7d7d40c",
   "metadata": {},
   "outputs": [
    {
     "name": "stdout",
     "output_type": "stream",
     "text": [
      " H  e  l  l  o  ,     W  o  r  l  d  ! \n"
     ]
    }
   ],
   "source": [
    "def print_with_indentation(string):\n",
    "    indented_string = \"\"\n",
    "    for i in string:\n",
    "        indented_string += \" \" + i + \" \"\n",
    "    print(indented_string)\n",
    "\n",
    "# Example usage:\n",
    "my_string = \"Hello, World!\"\n",
    "print_with_indentation(my_string)\n"
   ]
  },
  {
   "cell_type": "markdown",
   "id": "5cc02739",
   "metadata": {},
   "source": [
    "### Activity _3"
   ]
  },
  {
   "cell_type": "code",
   "execution_count": null,
   "id": "5539de38",
   "metadata": {
    "scrolled": false
   },
   "outputs": [
    {
     "name": "stdout",
     "output_type": "stream",
     "text": [
      "Int 10\n",
      "Float 10.0\n",
      "<class 'str'>\n"
     ]
    }
   ],
   "source": [
    "a = 10\n",
    "name = \"Padam Singh\"\n",
    "print('Int',int(a))\n",
    "print('Float',float(a))\n",
    "print(type(name))"
   ]
  },
  {
   "cell_type": "markdown",
   "id": "e733304d",
   "metadata": {},
   "source": [
    "### Activity _4"
   ]
  },
  {
   "cell_type": "code",
   "execution_count": null,
   "id": "fe9ceaf2",
   "metadata": {
    "scrolled": true
   },
   "outputs": [
    {
     "name": "stdout",
     "output_type": "stream",
     "text": [
      "[1, 2, 3]\n",
      "['Hello', 'World']\n",
      "The second name on the names list is Eric\n"
     ]
    }
   ],
   "source": [
    "numbers = [1,2,3]\n",
    "strings = [\"Hello\",\"World\"] # declare and initialize list\n",
    "names = [\"John\", \"Eric\", \"Jessica\"]\n",
    "second_name = names[1]\n",
    "print(numbers) # print the values of list\n",
    "print(strings)\n",
    "print(\"The second name on the names list is\", second_name)"
   ]
  },
  {
   "cell_type": "code",
   "execution_count": null,
   "id": "b43a76ad",
   "metadata": {},
   "outputs": [
    {
     "name": "stdout",
     "output_type": "stream",
     "text": [
      "0\n",
      "1\n",
      "2\n",
      "3\n",
      "4\n",
      "5\n",
      "6\n",
      "7\n",
      "8\n",
      "9\n"
     ]
    }
   ],
   "source": [
    "for i in range(10):\n",
    "    print(i)"
   ]
  },
  {
   "cell_type": "markdown",
   "id": "1c6fbbcd",
   "metadata": {},
   "source": [
    "### Activity _5"
   ]
  },
  {
   "cell_type": "code",
   "execution_count": 5,
   "id": "120edcef",
   "metadata": {},
   "outputs": [],
   "source": [
    "num1 = int(input('Enter the first number: '))\n",
    "num2 = int(input('Enter the second number: '))\n",
    "\n",
    "Addition = num1 + num2\n",
    "Subtraction = num1 - num2\n",
    "Division = num1 / num2\n",
    "Modulus = num1 % num2\n",
    "FloorDivision = num1 // num2\n",
    "Multiplication  = num1 * num2\n",
    "Exponentiation = num1 ** num2\n",
    "print('Addition' ,Addition)\n",
    "print('Subtraction' ,Subtraction)\n",
    "print('Division' ,Division)\n",
    "print('Modulus' ,Modulus)\n",
    "print('Floor Division',FloorDivision)\n",
    "print('Multiplication ',Multiplication)\n",
    "print('Exponentiation ',Exponentiation )"
   ]
  },
  {
   "cell_type": "markdown",
   "id": "fb1f899f",
   "metadata": {},
   "source": [
    "### Activity _6"
   ]
  },
  {
   "cell_type": "code",
   "execution_count": null,
   "id": "05ea12c6",
   "metadata": {},
   "outputs": [
    {
     "name": "stdout",
     "output_type": "stream",
     "text": [
      "Welcome python Welcome python Welcome python Welcome python Welcome python \n"
     ]
    }
   ],
   "source": [
    "x = 'Welcome '\n",
    "y = 'python '\n",
    "print ((x+y)*5)"
   ]
  },
  {
   "cell_type": "markdown",
   "id": "64c3a9e0",
   "metadata": {},
   "source": [
    "### Activity _7"
   ]
  },
  {
   "cell_type": "code",
   "execution_count": null,
   "id": "295c4caf",
   "metadata": {},
   "outputs": [
    {
     "name": "stdout",
     "output_type": "stream",
     "text": [
      "Max value in list 3\n",
      "Min value in list 1\n"
     ]
    }
   ],
   "source": [
    "my_list = [1, 2, 3]\n",
    "print('Max value in list',max(my_list)) # max() finds the maximum among values\n",
    "print('Min value in list',min(my_list)) # min() finds the minimum among values"
   ]
  },
  {
   "cell_type": "markdown",
   "id": "9c1fe9c8",
   "metadata": {},
   "source": [
    "### Activity _8"
   ]
  },
  {
   "cell_type": "code",
   "execution_count": null,
   "id": "5cf74427",
   "metadata": {},
   "outputs": [
    {
     "name": "stdout",
     "output_type": "stream",
     "text": [
      "Enter a Number: 6345\n",
      "6345 is Odd\n"
     ]
    }
   ],
   "source": [
    "num = int(input('Enter a Number: '))\n",
    "if num%2==0:\n",
    "    print(f'{num} is Even')\n",
    "else:\n",
    "    print(f'{num} is Odd')"
   ]
  },
  {
   "cell_type": "markdown",
   "id": "48bbdf7a",
   "metadata": {},
   "source": [
    "### Activity _9"
   ]
  },
  {
   "cell_type": "code",
   "execution_count": null,
   "id": "2f95ab9a",
   "metadata": {},
   "outputs": [
    {
     "name": "stdout",
     "output_type": "stream",
     "text": [
      "**\n",
      "***\n",
      "******\n",
      "*****\n"
     ]
    }
   ],
   "source": [
    "def histogram( items ): # create function\n",
    "    for n in items: # for loop through values of n\n",
    "        output = ''\n",
    "        times = n\n",
    "        while( times > 0 ): # check condition of counter\n",
    "            output += '*'\n",
    "            times = times - 1 # decrement the counter\n",
    "        print(output) # print the output\n",
    "histogram([2, 3, 6, 5])"
   ]
  },
  {
   "cell_type": "code",
   "execution_count": null,
   "id": "d6106489",
   "metadata": {},
   "outputs": [
    {
     "name": "stdout",
     "output_type": "stream",
     "text": [
      "*****\n",
      "*\n",
      "***\n",
      "********\n",
      "****\n"
     ]
    }
   ],
   "source": [
    "my_list= [5,1,3,8,4]\n",
    "for i in my_list:\n",
    "    while i>0:\n",
    "        print('*'*i)\n",
    "        break"
   ]
  },
  {
   "cell_type": "code",
   "execution_count": null,
   "id": "62557247",
   "metadata": {
    "scrolled": true
   },
   "outputs": [
    {
     "name": "stdout",
     "output_type": "stream",
     "text": [
      "*****\n",
      "**\n",
      "*\n",
      "********\n"
     ]
    }
   ],
   "source": [
    "my_list = [5,2,1,8]\n",
    "for i in my_list:\n",
    "    print('*'*i) "
   ]
  },
  {
   "cell_type": "markdown",
   "id": "466cb488",
   "metadata": {},
   "source": [
    "### Activity _10"
   ]
  },
  {
   "cell_type": "code",
   "execution_count": null,
   "id": "ac3080d8",
   "metadata": {},
   "outputs": [
    {
     "name": "stdout",
     "output_type": "stream",
     "text": [
      "1\n",
      "2\n"
     ]
    }
   ],
   "source": [
    "def gcd(x, y): # create function gcd()\n",
    "    gcd = 1\n",
    "    if x % y == 0:\n",
    "        return y\n",
    "    for k in range(int(y / 2), 0, -1): # for loop from y/2 to 0 increment -1\n",
    "        if x % k == 0 and y % k == 0:\n",
    "            gcd = k\n",
    "            break\n",
    "    return gcd\n",
    "print(gcd(12, 17)) # print the gcd value\n",
    "print(gcd(4, 6))\n"
   ]
  },
  {
   "cell_type": "code",
   "execution_count": 15,
   "id": "b095fad4",
   "metadata": {},
   "outputs": [
    {
     "name": "stdout",
     "output_type": "stream",
     "text": [
      "first value:10\n",
      "second value:22\n",
      "10 Divisable by [1, 2, 5, 10]\n",
      "22 Divisable by [1, 2, 11, 22]\n",
      "Greatest Comman Divisor 2\n"
     ]
    }
   ],
   "source": [
    "a=int(input(\"first value:\"))\n",
    "new_a=[]\n",
    "for i in range(1,a+1):\n",
    "   if a%i==0:\n",
    "      new_a.append(i)\n",
    "b=int(input(\"second value:\"))\n",
    "new_b=[]\n",
    "for k in range(1,b+1):\n",
    "   if b%k==0:\n",
    "      new_b.append(k)\n",
    "same= set(new_a) & set(new_b)\n",
    "gcd= max(same)\n",
    "print(a,\"Divisable by\",new_a)\n",
    "print(b,\"Divisable by\",new_b)\n",
    "print(\"Greatest Comman Divisor\",gcd)"
   ]
  },
  {
   "cell_type": "markdown",
   "id": "95fe861a",
   "metadata": {},
   "source": [
    "### Activity _11"
   ]
  },
  {
   "cell_type": "code",
   "execution_count": null,
   "id": "b837bdda",
   "metadata": {},
   "outputs": [
    {
     "name": "stdout",
     "output_type": "stream",
     "text": [
      "Insert 1st value :20\n",
      "Insert 2nd value :21\n"
     ]
    },
    {
     "data": {
      "text/plain": [
       "'Lcm of 20 and 21 is : 420'"
      ]
     },
     "execution_count": 7,
     "metadata": {},
     "output_type": "execute_result"
    }
   ],
   "source": [
    "def lcm(x,y):\n",
    "    if x>y:\n",
    "        z=x\n",
    "    else:\n",
    "        z=y\n",
    "    while(True):\n",
    "        if((z%x==0) and (z%y==0)):\n",
    "            lcm=z\n",
    "            break\n",
    "        z+=1\n",
    "    return (f\"Lcm of {x} and {y} is : {lcm}\")\n",
    "x = int(input(\"Insert 1st value :\"))\n",
    "y = int(input(\"Insert 2nd value :\"))\n",
    "lcm(x,y)"
   ]
  },
  {
   "cell_type": "code",
   "execution_count": 2,
   "id": "eeb1bb72",
   "metadata": {},
   "outputs": [
    {
     "name": "stdout",
     "output_type": "stream",
     "text": [
      "first value:10\n",
      "second value:20\n",
      "10 Divisable by [1, 2, 5, 10]\n",
      "20 Divisable by [1, 2, 4, 5, 10, 20]\n",
      "Greatest Comman Divisor 20.0\n"
     ]
    }
   ],
   "source": [
    "a=int(input(\"first value:\"))\n",
    "new_a=[]\n",
    "for i in range(1,a+1):\n",
    "   if a%i==0:\n",
    "      new_a.append(i)\n",
    "b=int(input(\"second value:\"))\n",
    "new_b=[]\n",
    "for k in range(1,b+1):\n",
    "   if b%k==0:\n",
    "      new_b.append(k)\n",
    "same= set(new_a) & set(new_b)\n",
    "\n",
    "gcd= max(same)\n",
    "multi = a*b\n",
    "lcm = multi/gcd\n",
    "print(a,\"Divisable by\",new_a)\n",
    "print(b,\"Divisable by\",new_b)\n",
    "print(\"Greatest Comman Divisor\",lcm)"
   ]
  },
  {
   "cell_type": "markdown",
   "id": "8d375fc1",
   "metadata": {},
   "source": [
    "### Activity _12\n"
   ]
  },
  {
   "cell_type": "code",
   "execution_count": null,
   "id": "492a3505",
   "metadata": {},
   "outputs": [],
   "source": [
    "my_dict = {1:2, 3:4, 4:3, 2:1, 0:0}"
   ]
  },
  {
   "cell_type": "code",
   "execution_count": null,
   "id": "7f978ee9",
   "metadata": {},
   "outputs": [
    {
     "name": "stdout",
     "output_type": "stream",
     "text": [
      "Dictionary Ascending order by value [(0, 0), (1, 2), (2, 1), (3, 4), (4, 3)]\n",
      "Dictionary Descending order by value [(4, 3), (3, 4), (2, 1), (1, 2), (0, 0)]\n"
     ]
    }
   ],
   "source": [
    "item = sorted(my_dict.items())\n",
    "print(f\"Dictionary Ascending order by value {item}\")\n",
    "\n",
    "item.reverse()\n",
    "print(f\"Dictionary Descending order by value {item}\")\n"
   ]
  },
  {
   "cell_type": "markdown",
   "id": "717535e5",
   "metadata": {},
   "source": [
    "### Activity _13"
   ]
  },
  {
   "cell_type": "code",
   "execution_count": null,
   "id": "2d182c39",
   "metadata": {},
   "outputs": [
    {
     "data": {
      "text/plain": [
       "(1, 2, 3, 'a', 'b', 'True', True, ['apple', 'banana'], ('one', 'two'))"
      ]
     },
     "execution_count": 48,
     "metadata": {},
     "output_type": "execute_result"
    }
   ],
   "source": [
    "my_tuple = (1,2,3, 'a', 'b', 'True', True, ['apple','banana'], ('one', 'two'))\n",
    "my_tuple"
   ]
  },
  {
   "cell_type": "markdown",
   "id": "ceb88ca4",
   "metadata": {},
   "source": [
    "### Activity _14"
   ]
  },
  {
   "cell_type": "code",
   "execution_count": null,
   "id": "f719dfc7",
   "metadata": {},
   "outputs": [
    {
     "data": {
      "text/plain": [
       "(1, 2, 3, 'a', 'b', 'True', True)"
      ]
     },
     "execution_count": 58,
     "metadata": {},
     "output_type": "execute_result"
    }
   ],
   "source": [
    "my_tuple = (1,2,3, 'a', 'b', 'True', True)\n",
    "my_tuple"
   ]
  },
  {
   "cell_type": "markdown",
   "id": "a2b41200",
   "metadata": {},
   "source": [
    "### Activity _15\n"
   ]
  },
  {
   "cell_type": "code",
   "execution_count": null,
   "id": "1831564f",
   "metadata": {},
   "outputs": [
    {
     "name": "stdout",
     "output_type": "stream",
     "text": [
      "set()\n",
      "{1, 2, 3}\n"
     ]
    }
   ],
   "source": [
    "my_set = set()\n",
    "print(my_set)\n",
    "\n",
    "my_set1 = set([1,2,3])\n",
    "print(my_set1)"
   ]
  },
  {
   "cell_type": "markdown",
   "id": "d9bedaac",
   "metadata": {},
   "source": [
    "### Activity _16"
   ]
  },
  {
   "cell_type": "code",
   "execution_count": null,
   "id": "dc87c050",
   "metadata": {},
   "outputs": [
    {
     "name": "stdout",
     "output_type": "stream",
     "text": [
      "set()\n"
     ]
    },
    {
     "data": {
      "text/plain": [
       "{'Red'}"
      ]
     },
     "execution_count": 70,
     "metadata": {},
     "output_type": "execute_result"
    }
   ],
   "source": [
    "my_set = set()\n",
    "print(my_set)\n",
    "my_set.add('Red')\n",
    "my_set"
   ]
  },
  {
   "cell_type": "markdown",
   "id": "82ee520e",
   "metadata": {},
   "source": [
    "### Activity _17"
   ]
  },
  {
   "cell_type": "code",
   "execution_count": null,
   "id": "e3d235aa",
   "metadata": {},
   "outputs": [
    {
     "name": "stdout",
     "output_type": "stream",
     "text": [
      "Maximum value of set: 1\n",
      "Minimum value of set: 10\n"
     ]
    }
   ],
   "source": [
    "my_set = set([1,2,3,5,6,7,8,9,10])\n",
    "print(f\"Maximum value of set: {min(my_set)}\")\n",
    "print(f\"Minimum value of set: {max(my_set)}\")"
   ]
  },
  {
   "cell_type": "markdown",
   "id": "472b74c5",
   "metadata": {},
   "source": [
    "### Activity _18"
   ]
  },
  {
   "cell_type": "code",
   "execution_count": null,
   "id": "9959f6c3",
   "metadata": {},
   "outputs": [
    {
     "data": {
      "text/plain": [
       "6"
      ]
     },
     "execution_count": 5,
     "metadata": {},
     "output_type": "execute_result"
    }
   ],
   "source": [
    "my_set = {'one', 'two', 3, 4, True, None}\n",
    "len(my_set)"
   ]
  },
  {
   "cell_type": "markdown",
   "id": "fc6160ad",
   "metadata": {},
   "source": [
    "### Activity _19"
   ]
  },
  {
   "cell_type": "code",
   "execution_count": null,
   "id": "1f35aa63",
   "metadata": {},
   "outputs": [
    {
     "name": "stdout",
     "output_type": "stream",
     "text": [
      "Enter a temperature in Fahrenheit: 15\n",
      "Temperature: 15.0 Fahrenheit =  -9.444444444444445  C\n",
      "Enter a temperature in Celsius: 15\n",
      "Temperature: 15.0 Celsius =  59.0  F\n"
     ]
    }
   ],
   "source": [
    "Fahrenheit = float(input(\"Enter a temperature in Fahrenheit: \"))\n",
    "\n",
    "Celsius = (Fahrenheit - 32) * 5.0/9.0\n",
    "print (\"Temperature:\", Fahrenheit, \"Fahrenheit = \", Celsius, \" C\")\n",
    "\n",
    "\n",
    "Celsius = float(input(\"Enter a temperature in Celsius: \"))\n",
    "\n",
    "Fahrenheit = 9.0/5.0 * Celsius + 32\n",
    "print (\"Temperature:\", Celsius, \"Celsius = \", Fahrenheit, \" F\")\n"
   ]
  },
  {
   "cell_type": "markdown",
   "id": "9a8c24ec",
   "metadata": {},
   "source": [
    "### Activity _20\n"
   ]
  },
  {
   "cell_type": "code",
   "execution_count": null,
   "id": "941e669b",
   "metadata": {},
   "outputs": [
    {
     "name": "stdout",
     "output_type": "stream",
     "text": [
      "How many terms?: 5\n",
      "1\n",
      "2\n",
      "3\n",
      "4\n",
      "5\n"
     ]
    }
   ],
   "source": [
    "n = int(input(\"How many terms?: \"))\n",
    "for i in range(n):\n",
    "  print(i+1)"
   ]
  },
  {
   "cell_type": "code",
   "execution_count": null,
   "id": "484a9f98",
   "metadata": {},
   "outputs": [
    {
     "name": "stdout",
     "output_type": "stream",
     "text": [
      "How many terms?: 10\n",
      "0\n",
      "1\n",
      "1\n",
      "2\n",
      "3\n",
      "5\n",
      "8\n",
      "13\n",
      "21\n",
      "34\n"
     ]
    }
   ],
   "source": [
    "n = int(input(\"How many terms?: \"))\n",
    "def fibonacci(n):\n",
    "  if n == 0:\n",
    "    return 0\n",
    "  elif n == 1:\n",
    "    return 1\n",
    "  else:\n",
    "    return fibonacci(n-1) + fibonacci(n-2)\n",
    "\n",
    "# Generate the first 10 numbers in the Fibonacci series\n",
    "\n",
    "for i in range(n):\n",
    "  print(fibonacci(i))\n"
   ]
  },
  {
   "cell_type": "markdown",
   "id": "bc5662de",
   "metadata": {},
   "source": [
    "### Activity _21"
   ]
  },
  {
   "cell_type": "code",
   "execution_count": null,
   "id": "12ed6be0",
   "metadata": {},
   "outputs": [
    {
     "name": "stdout",
     "output_type": "stream",
     "text": [
      "Insert You Number: 5\n",
      "The factorial of 5 is 120\n"
     ]
    }
   ],
   "source": [
    "n = int(input('Insert You Number: '))\n",
    "def fc(n):\n",
    "    factorial = 1\n",
    "    for i in range(1, n+1 ):\n",
    "        factorial *= i\n",
    "    return factorial\n",
    "    \n",
    "result = fc(n)\n",
    "print(\"The factorial of\", n, \"is\", result)"
   ]
  },
  {
   "cell_type": "markdown",
   "id": "63e925c4",
   "metadata": {},
   "source": [
    "### Activity _22"
   ]
  },
  {
   "cell_type": "code",
   "execution_count": null,
   "id": "3e781082",
   "metadata": {},
   "outputs": [
    {
     "name": "stdout",
     "output_type": "stream",
     "text": [
      "Given value mom is palindrome.\n",
      "Given value dad is palindrome.\n",
      "Given value meggm is not palindrome.\n"
     ]
    }
   ],
   "source": [
    "def palindrome(n):\n",
    "    if n==n[::-1]:\n",
    "        print(f\"Given value {n} is palindrome.\")\n",
    "    else:\n",
    "        print(f\"Given value {n} is not palindrome.\")\n",
    "palindrome(\"mom\")\n",
    "palindrome(\"dad\")\n",
    "palindrome(\"meggm\")"
   ]
  },
  {
   "cell_type": "markdown",
   "id": "c32c30f7",
   "metadata": {},
   "source": [
    "### Activity _23"
   ]
  },
  {
   "cell_type": "code",
   "execution_count": null,
   "id": "55b4ab7c",
   "metadata": {},
   "outputs": [
    {
     "data": {
      "text/plain": [
       "'uoY si eman yM !olleH'"
      ]
     },
     "execution_count": 34,
     "metadata": {},
     "output_type": "execute_result"
    }
   ],
   "source": [
    "my_word = \"Hello! My name is You\"\n",
    "my_word[::-1]"
   ]
  },
  {
   "cell_type": "code",
   "execution_count": null,
   "id": "ac2bfa16",
   "metadata": {},
   "outputs": [],
   "source": [
    "word = str(input(\"Enter you word for reverse\"))\n",
    "print(word[::])"
   ]
  },
  {
   "cell_type": "markdown",
   "id": "0262bf66",
   "metadata": {},
   "source": [
    "### Activity _24"
   ]
  },
  {
   "cell_type": "code",
   "execution_count": null,
   "id": "78b1f783",
   "metadata": {},
   "outputs": [
    {
     "name": "stdout",
     "output_type": "stream",
     "text": [
      "Enter radius of circle: 21\n",
      "1385.44\n",
      "132\n"
     ]
    }
   ],
   "source": [
    "import math\n",
    "\n",
    "class circle():\n",
    "    def __init__(self,radius):\n",
    "        self.radius=radius\n",
    "    def area(self):\n",
    "        return math.pi*(self.radius**2)\n",
    "    def perimeter(self):\n",
    "        return 2*math.pi*self.radius\n",
    "    \n",
    "value_of_circle= int(input(\"Enter radius of circle: \"))\n",
    "\n",
    "obj=circle(value_of_circle)\n",
    "print(round(obj.area(),2))\n",
    "print(round(obj.perimeter()))"
   ]
  },
  {
   "cell_type": "markdown",
   "id": "4200dc75",
   "metadata": {},
   "source": [
    "### Activity _25"
   ]
  },
  {
   "cell_type": "code",
   "execution_count": null,
   "id": "1dfc48b9",
   "metadata": {},
   "outputs": [],
   "source": []
  },
  {
   "cell_type": "code",
   "execution_count": 13,
   "id": "2c514e02",
   "metadata": {},
   "outputs": [
    {
     "name": "stdout",
     "output_type": "stream",
     "text": [
      "Sorted array is :\n",
      "1 2 3 4 5 6 7 8 9 10 "
     ]
    }
   ],
   "source": [
    "#bubble sort\n",
    "def bubblesort(my_list):\n",
    "    n = len(my_list)\n",
    "    \n",
    "#     swapped = False\n",
    "    \n",
    "    for i in range(n-1):\n",
    "        for j in range(0, n-i-1):\n",
    "            \n",
    "            if my_list[j] > my_list[j+1]:\n",
    "                swapped = True\n",
    "                my_list[j], my_list[j+1] = my_list[j+1], my_list[j]\n",
    "                \n",
    "        if not swapped:\n",
    "            return\n",
    "        \n",
    "my_list = [5,1,6,4,8,7,9,3,2,10]\n",
    "bubblesort(my_list)\n",
    "print(\"Sorted array is :\")\n",
    "for i in range(len(my_list)):\n",
    "    print(my_list[i], end= \" \")"
   ]
  },
  {
   "cell_type": "code",
   "execution_count": 12,
   "id": "b1d06202",
   "metadata": {},
   "outputs": [
    {
     "name": "stdout",
     "output_type": "stream",
     "text": [
      "Bubblesort: [1, 2, 5, 6, 9]\n"
     ]
    }
   ],
   "source": [
    "def bubblesort(my_list):\n",
    "    for i in range(len(my_list)-1,0,-1):\n",
    "        for j in range(i):\n",
    "            if my_list[j] > my_list[j+1]:\n",
    "                swapped = True\n",
    "                my_list[j], my_list[j+1] = my_list[j+1], my_list[j]\n",
    "                \n",
    "        if not swapped:\n",
    "            return\n",
    "\n",
    "my_list = [9,5,6,1,2]\n",
    "bubblesort(my_list)\n",
    "print(f\"Bubblesort: {my_list}\")"
   ]
  },
  {
   "cell_type": "code",
   "execution_count": 1,
   "id": "61ce1ffa",
   "metadata": {},
   "outputs": [
    {
     "name": "stdout",
     "output_type": "stream",
     "text": [
      "[2, 3, 4, 7, 9]\n"
     ]
    }
   ],
   "source": [
    "def sort(num):\n",
    "    for i in range(len(num)-1, 0, -1):\n",
    "        for j in range(i):\n",
    "            if (num[j]>num[j+1]):\n",
    "                temp=num[j]\n",
    "                num[j]=num[j+1]\n",
    "                num[j+1]=temp\n",
    "num=[4,7,3,9,2]\n",
    "sort(num)\n",
    "print(num)"
   ]
  },
  {
   "cell_type": "code",
   "execution_count": 2,
   "id": "c5f129c0",
   "metadata": {},
   "outputs": [
    {
     "name": "stdout",
     "output_type": "stream",
     "text": [
      "[9, 7, 4, 3, 2]\n"
     ]
    }
   ],
   "source": [
    "def a(n):\n",
    "    for i in range(len(n)-1,0,-1):\n",
    "        for j in range(i):\n",
    "            if n[j+1]>n[j]:\n",
    "                temp=n[j+1]\n",
    "                n[j+1]=n[j]\n",
    "                n[j]=temp\n",
    "n=[4,7,3,9,2]\n",
    "a(n)\n",
    "print(n)"
   ]
  },
  {
   "cell_type": "code",
   "execution_count": 6,
   "id": "05d85542",
   "metadata": {},
   "outputs": [
    {
     "name": "stdout",
     "output_type": "stream",
     "text": [
      "[9, 7, 4, 3, 2]\n"
     ]
    }
   ],
   "source": [
    "def a(n):\n",
    "    for i in range(len(n)-1,0,-1):\n",
    "        for j in range(i):\n",
    "            if n[j+1]>n[j]:\n",
    "                s = True\n",
    "                n[j],n[j+1]=n[j+1],n[j]\n",
    "                \n",
    "n=[4,7,3,9,2]\n",
    "a(n)\n",
    "print(n)"
   ]
  },
  {
   "cell_type": "markdown",
   "id": "62f7a435",
   "metadata": {},
   "source": [
    "### Activity _26"
   ]
  },
  {
   "cell_type": "code",
   "execution_count": null,
   "id": "998a36d2",
   "metadata": {},
   "outputs": [],
   "source": []
  },
  {
   "cell_type": "code",
   "execution_count": null,
   "id": "edde452d",
   "metadata": {},
   "outputs": [],
   "source": []
  },
  {
   "cell_type": "code",
   "execution_count": null,
   "id": "3b9decac",
   "metadata": {},
   "outputs": [],
   "source": []
  },
  {
   "cell_type": "code",
   "execution_count": null,
   "id": "8790c38c",
   "metadata": {},
   "outputs": [],
   "source": []
  },
  {
   "cell_type": "code",
   "execution_count": null,
   "id": "31ba3fbf",
   "metadata": {},
   "outputs": [],
   "source": [
    "def a(n):\n",
    "    if n == 3:\n",
    "        pass\n",
    "    if n==2:\n",
    "        print(\"N is greater then 2\")\n",
    "a(3)"
   ]
  },
  {
   "cell_type": "code",
   "execution_count": 9,
   "id": "b11892b1",
   "metadata": {},
   "outputs": [
    {
     "name": "stdout",
     "output_type": "stream",
     "text": [
      "1 2 3 4 5 6 7 8 9 "
     ]
    }
   ],
   "source": [
    "for i in range(1,10,1):\n",
    "    print(i, end= \" \")"
   ]
  },
  {
   "cell_type": "code",
   "execution_count": 11,
   "id": "d39c3ae9",
   "metadata": {},
   "outputs": [
    {
     "name": "stdout",
     "output_type": "stream",
     "text": [
      "20 18 16 14 12 "
     ]
    }
   ],
   "source": [
    "for i in range(20,10,-2):\n",
    "    print(i, end= \" \")"
   ]
  },
  {
   "cell_type": "code",
   "execution_count": 15,
   "id": "77814250",
   "metadata": {},
   "outputs": [],
   "source": [
    "my_dict = list([])\n",
    "lista= dict()\n"
   ]
  },
  {
   "cell_type": "code",
   "execution_count": 16,
   "id": "c7c74c24",
   "metadata": {},
   "outputs": [
    {
     "data": {
      "text/plain": [
       "dict"
      ]
     },
     "execution_count": 16,
     "metadata": {},
     "output_type": "execute_result"
    }
   ],
   "source": [
    "type(lista)"
   ]
  },
  {
   "cell_type": "code",
   "execution_count": null,
   "id": "3ca5dbe8",
   "metadata": {},
   "outputs": [],
   "source": []
  }
 ],
 "metadata": {
  "kernelspec": {
   "display_name": "Python 3 (ipykernel)",
   "language": "python",
   "name": "python3"
  },
  "language_info": {
   "codemirror_mode": {
    "name": "ipython",
    "version": 3
   },
   "file_extension": ".py",
   "mimetype": "text/x-python",
   "name": "python",
   "nbconvert_exporter": "python",
   "pygments_lexer": "ipython3",
   "version": "3.10.9"
  }
 },
 "nbformat": 4,
 "nbformat_minor": 5
}

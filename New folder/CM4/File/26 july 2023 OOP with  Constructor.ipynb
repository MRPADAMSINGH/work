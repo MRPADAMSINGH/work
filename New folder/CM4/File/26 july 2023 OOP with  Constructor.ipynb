{
 "cells": [
  {
   "cell_type": "code",
   "execution_count": 8,
   "id": "30a3524d",
   "metadata": {},
   "outputs": [],
   "source": [
    "a = set()"
   ]
  },
  {
   "cell_type": "code",
   "execution_count": 9,
   "id": "e199fd85",
   "metadata": {},
   "outputs": [
    {
     "name": "stdout",
     "output_type": "stream",
     "text": [
      "set()\n"
     ]
    }
   ],
   "source": [
    "print(a)"
   ]
  },
  {
   "cell_type": "code",
   "execution_count": 10,
   "id": "41aa5530",
   "metadata": {},
   "outputs": [
    {
     "data": {
      "text/plain": [
       "set"
      ]
     },
     "execution_count": 10,
     "metadata": {},
     "output_type": "execute_result"
    }
   ],
   "source": [
    "type(a)"
   ]
  },
  {
   "cell_type": "code",
   "execution_count": 11,
   "id": "639a65ca",
   "metadata": {},
   "outputs": [],
   "source": [
    "a = []"
   ]
  },
  {
   "cell_type": "code",
   "execution_count": 12,
   "id": "ca9e4806",
   "metadata": {},
   "outputs": [
    {
     "name": "stdout",
     "output_type": "stream",
     "text": [
      "[]\n"
     ]
    }
   ],
   "source": [
    "print(a)"
   ]
  },
  {
   "cell_type": "code",
   "execution_count": 13,
   "id": "761541fd",
   "metadata": {},
   "outputs": [],
   "source": [
    "a = list()"
   ]
  },
  {
   "cell_type": "code",
   "execution_count": 14,
   "id": "11cd1cdd",
   "metadata": {},
   "outputs": [
    {
     "data": {
      "text/plain": [
       "[]"
      ]
     },
     "execution_count": 14,
     "metadata": {},
     "output_type": "execute_result"
    }
   ],
   "source": [
    "a"
   ]
  },
  {
   "cell_type": "code",
   "execution_count": 15,
   "id": "50173798",
   "metadata": {},
   "outputs": [],
   "source": [
    "a = \"hello\""
   ]
  },
  {
   "cell_type": "code",
   "execution_count": null,
   "id": "23fac802",
   "metadata": {},
   "outputs": [],
   "source": [
    "#creation of class start class to gear.\n",
    "class Bike:\n",
    "    name=\"\"  #Attribute#(state)\n",
    "    gear=0   #Attribute\n",
    "#create object of the class\n",
    "bike=Bike()\n",
    "bike.name=\"BMW\"\n",
    "bike.gear\n"
   ]
  },
  {
   "cell_type": "code",
   "execution_count": 7,
   "id": "9461e555",
   "metadata": {},
   "outputs": [
    {
     "name": "stdout",
     "output_type": "stream",
     "text": [
      "Name: Yamaha, 11\n"
     ]
    }
   ],
   "source": [
    "class Bike:\n",
    "    name=\"\"  #Attribute#(state)\n",
    "    gear=0   #Attribute\n",
    "bike=Bike()\n",
    "bike.gear=11\n",
    "bike.name=\"Yamaha\"\n",
    "print(f\"Name: {bike.name}, {bike.gear}\")"
   ]
  },
  {
   "cell_type": "code",
   "execution_count": 10,
   "id": "b80345de",
   "metadata": {},
   "outputs": [
    {
     "name": "stdout",
     "output_type": "stream",
     "text": [
      "Employee id:1\n",
      "Employee id:2\n"
     ]
    }
   ],
   "source": [
    "class Employee:\n",
    "    emp_id=0\n",
    "emp1=Employee()\n",
    "emp2=Employee()\n",
    "emp1.emp_id=1\n",
    "\n",
    "print(f\"Employee id:{emp1.emp_id}\")\n",
    "\n",
    "emp2.emp_id=2\n",
    "print(f\"Employee id:{emp2.emp_id}\")"
   ]
  },
  {
   "cell_type": "code",
   "execution_count": 25,
   "id": "05485d6d",
   "metadata": {},
   "outputs": [
    {
     "name": "stdout",
     "output_type": "stream",
     "text": [
      "Area of Room is: {800}\n"
     ]
    }
   ],
   "source": [
    "class Room:\n",
    "    length=0.0\n",
    "    breadth=0.0\n",
    "    def Calculate_Area(self):\n",
    "        print(f\"Area of Room is:\",{self.length*self.breadth})\n",
    "room=Room()\n",
    "room.length=40\n",
    "room.breadth=20\n",
    "room.Calculate_Area()"
   ]
  },
  {
   "cell_type": "code",
   "execution_count": 39,
   "id": "7b7a5754",
   "metadata": {},
   "outputs": [
    {
     "name": "stdout",
     "output_type": "stream",
     "text": [
      "Area of triangle 300\n"
     ]
    }
   ],
   "source": [
    "class Tra:\n",
    "    s1=0.0\n",
    "    s2=0.0\n",
    "    s3=0.0\n",
    "    def Cal_area(self):\n",
    "        print(\"Area of triangle\",self.s1*self.s2*self.s3)\n",
    "traiangle=Tra()\n",
    "traiangle.s1=10\n",
    "traiangle.s2=15\n",
    "traiangle.s3=2\n",
    "traiangle.Cal_area()"
   ]
  },
  {
   "cell_type": "code",
   "execution_count": 40,
   "id": "fcbaf9e0",
   "metadata": {},
   "outputs": [
    {
     "name": "stdout",
     "output_type": "stream",
     "text": [
      "Priya 22\n"
     ]
    }
   ],
   "source": [
    "#Parameter Contructor\n",
    "class Person:\n",
    "    def __init__(self, name,age):\n",
    "        self.name=name\n",
    "        self.age=age\n",
    "person=Person(\"Priya\",22)\n",
    "print(person.name,person.age)"
   ]
  },
  {
   "cell_type": "code",
   "execution_count": 43,
   "id": "344e93fb",
   "metadata": {},
   "outputs": [
    {
     "name": "stdout",
     "output_type": "stream",
     "text": [
      "32\n"
     ]
    }
   ],
   "source": [
    "class Add:\n",
    "    def __init__(self, a,b):\n",
    "        self.a=a\n",
    "        self.b=b\n",
    "add=Add(10,22)\n",
    "print(add.a+add.b)"
   ]
  },
  {
   "cell_type": "code",
   "execution_count": 46,
   "id": "f377479b",
   "metadata": {},
   "outputs": [
    {
     "name": "stdout",
     "output_type": "stream",
     "text": [
      "Payal\n",
      "30\n"
     ]
    }
   ],
   "source": [
    "#Default Constructor\n",
    "class Person:\n",
    "    def __init__(self):\n",
    "        self.name=\"Payal\"\n",
    "        self.age=30\n",
    "person=Person()\n",
    "print(person.name)\n",
    "print(person.age)"
   ]
  },
  {
   "cell_type": "code",
   "execution_count": 50,
   "id": "85f6700f",
   "metadata": {},
   "outputs": [
    {
     "name": "stdout",
     "output_type": "stream",
     "text": [
      "Priyanka 10\n"
     ]
    }
   ],
   "source": [
    "class Student:\n",
    "    def __init__(self,name,rollno):\n",
    "        self.name=name\n",
    "        self.rollno=rollno\n",
    "student=Student(\"Priyanka\",10)\n",
    "print(student.name,student.rollno)"
   ]
  },
  {
   "cell_type": "code",
   "execution_count": 55,
   "id": "a7075894",
   "metadata": {},
   "outputs": [
    {
     "name": "stdout",
     "output_type": "stream",
     "text": [
      "Vehical Created\n",
      "Destructor called, and Vehical Deleted\n"
     ]
    }
   ],
   "source": [
    "#Destructors\n",
    "class Vehical:\n",
    "    def __init__(self):\n",
    "        print(\"Vehical Created\")\n",
    "    def __del__(self):\n",
    "        print(\"Destructor called, and Vehical Deleted\")\n",
    "car=Vehical()\n",
    "del car"
   ]
  },
  {
   "cell_type": "code",
   "execution_count": null,
   "id": "c613be40",
   "metadata": {},
   "outputs": [],
   "source": []
  }
 ],
 "metadata": {
  "kernelspec": {
   "display_name": "Python 3 (ipykernel)",
   "language": "python",
   "name": "python3"
  },
  "language_info": {
   "codemirror_mode": {
    "name": "ipython",
    "version": 3
   },
   "file_extension": ".py",
   "mimetype": "text/x-python",
   "name": "python",
   "nbconvert_exporter": "python",
   "pygments_lexer": "ipython3",
   "version": "3.10.9"
  }
 },
 "nbformat": 4,
 "nbformat_minor": 5
}

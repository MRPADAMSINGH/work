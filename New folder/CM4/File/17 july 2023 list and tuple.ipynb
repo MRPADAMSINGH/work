{
 "cells": [
  {
   "cell_type": "code",
   "execution_count": 9,
   "id": "c93963ae",
   "metadata": {},
   "outputs": [
    {
     "name": "stdout",
     "output_type": "stream",
     "text": [
      "True\n"
     ]
    }
   ],
   "source": [
    "fruit = ['apple', 'mango', 'banana']\n",
    "print('apple' in fruit)"
   ]
  },
  {
   "cell_type": "code",
   "execution_count": 10,
   "id": "1788079c",
   "metadata": {},
   "outputs": [
    {
     "name": "stdout",
     "output_type": "stream",
     "text": [
      "True\n"
     ]
    }
   ],
   "source": [
    "print('orange' not in fruit)"
   ]
  },
  {
   "cell_type": "code",
   "execution_count": 14,
   "id": "c91ffc99",
   "metadata": {},
   "outputs": [
    {
     "name": "stdout",
     "output_type": "stream",
     "text": [
      "i like : apple\n",
      "i like : mango\n",
      "i like : banana\n"
     ]
    }
   ],
   "source": [
    "for fruit in ['apple', 'mango', 'banana'] :\n",
    "    print('i like :',fruit)"
   ]
  },
  {
   "cell_type": "code",
   "execution_count": 17,
   "id": "fe76f9cf",
   "metadata": {},
   "outputs": [
    {
     "name": "stdout",
     "output_type": "stream",
     "text": [
      "My fav. color is : black\n",
      "My fav. color is : white\n",
      "My fav. color is : sky blue\n"
     ]
    }
   ],
   "source": [
    "my_list = ['black', 'white', 'sky blue']\n",
    "for i in my_list:\n",
    "    print(f\"My fav. color is : {i}\")"
   ]
  },
  {
   "cell_type": "code",
   "execution_count": 18,
   "id": "d5d9a411",
   "metadata": {},
   "outputs": [
    {
     "data": {
      "text/plain": [
       "['black', 'white', 'sky blue']"
      ]
     },
     "execution_count": 18,
     "metadata": {},
     "output_type": "execute_result"
    }
   ],
   "source": [
    "my_list"
   ]
  },
  {
   "cell_type": "code",
   "execution_count": 27,
   "id": "a5c51901",
   "metadata": {},
   "outputs": [],
   "source": [
    "my_tuple = (1, 2, 3, 'a', 'b', True, '')"
   ]
  },
  {
   "cell_type": "code",
   "execution_count": 28,
   "id": "3f177f6a",
   "metadata": {},
   "outputs": [
    {
     "data": {
      "text/plain": [
       "7"
      ]
     },
     "execution_count": 28,
     "metadata": {},
     "output_type": "execute_result"
    }
   ],
   "source": [
    "len(my_tuple)"
   ]
  },
  {
   "cell_type": "code",
   "execution_count": 31,
   "id": "3a4abb49",
   "metadata": {},
   "outputs": [
    {
     "name": "stdout",
     "output_type": "stream",
     "text": [
      "<class 'tuple'>\n"
     ]
    }
   ],
   "source": [
    "print(type(my_tuple))"
   ]
  },
  {
   "cell_type": "markdown",
   "id": "07409a06",
   "metadata": {},
   "source": [
    "# Create  a tuple and access by the indexing no.\n",
    "my_tuple = (1, 2, 3, 'a', 'b', True, '')"
   ]
  },
  {
   "cell_type": "code",
   "execution_count": 33,
   "id": "807321b0",
   "metadata": {},
   "outputs": [
    {
     "data": {
      "text/plain": [
       "(1, 2, 3, 'a', 'b', True, '')"
      ]
     },
     "execution_count": 33,
     "metadata": {},
     "output_type": "execute_result"
    }
   ],
   "source": [
    "my_tuple[:]"
   ]
  },
  {
   "cell_type": "code",
   "execution_count": 34,
   "id": "a1120b8e",
   "metadata": {},
   "outputs": [
    {
     "data": {
      "text/plain": [
       "'b'"
      ]
     },
     "execution_count": 34,
     "metadata": {},
     "output_type": "execute_result"
    }
   ],
   "source": [
    "my_tuple[4]"
   ]
  },
  {
   "cell_type": "code",
   "execution_count": 35,
   "id": "8a235e8b",
   "metadata": {},
   "outputs": [
    {
     "data": {
      "text/plain": [
       "('',)"
      ]
     },
     "execution_count": 35,
     "metadata": {},
     "output_type": "execute_result"
    }
   ],
   "source": [
    "my_tuple[-1:]"
   ]
  },
  {
   "cell_type": "code",
   "execution_count": 36,
   "id": "840da07a",
   "metadata": {},
   "outputs": [
    {
     "data": {
      "text/plain": [
       "(1, 2, 3, 'a', 'b', True)"
      ]
     },
     "execution_count": 36,
     "metadata": {},
     "output_type": "execute_result"
    }
   ],
   "source": [
    "my_tuple[:-1]"
   ]
  },
  {
   "cell_type": "code",
   "execution_count": 37,
   "id": "c91245de",
   "metadata": {},
   "outputs": [
    {
     "ename": "TypeError",
     "evalue": "'tuple' object does not support item assignment",
     "output_type": "error",
     "traceback": [
      "\u001b[1;31m---------------------------------------------------------------------------\u001b[0m",
      "\u001b[1;31mTypeError\u001b[0m                                 Traceback (most recent call last)",
      "Cell \u001b[1;32mIn[37], line 1\u001b[0m\n\u001b[1;32m----> 1\u001b[0m my_tuple[\u001b[38;5;241m3\u001b[39m]\u001b[38;5;241m=\u001b[39m\u001b[38;5;124m'\u001b[39m\u001b[38;5;124mapple\u001b[39m\u001b[38;5;124m'\u001b[39m\n",
      "\u001b[1;31mTypeError\u001b[0m: 'tuple' object does not support item assignment"
     ]
    }
   ],
   "source": [
    "my_tuple[3]='apple'"
   ]
  },
  {
   "cell_type": "code",
   "execution_count": 39,
   "id": "6ba570c8",
   "metadata": {},
   "outputs": [],
   "source": [
    "my_tuple = ('a', 'b', ['apple', 'black'])\n"
   ]
  },
  {
   "cell_type": "code",
   "execution_count": 40,
   "id": "13f14cba",
   "metadata": {},
   "outputs": [],
   "source": [
    "my_tuple[2] [1] = 'banana'"
   ]
  },
  {
   "cell_type": "code",
   "execution_count": 41,
   "id": "37bfd294",
   "metadata": {},
   "outputs": [
    {
     "data": {
      "text/plain": [
       "('a', 'b', ['apple', 'banana'])"
      ]
     },
     "execution_count": 41,
     "metadata": {},
     "output_type": "execute_result"
    }
   ],
   "source": [
    "my_tuple"
   ]
  },
  {
   "cell_type": "code",
   "execution_count": 42,
   "id": "ac8299a4",
   "metadata": {},
   "outputs": [],
   "source": [
    "my_tuple = ('a', 'b', ['apple', 'black'])"
   ]
  },
  {
   "cell_type": "code",
   "execution_count": 43,
   "id": "c8ca3acf",
   "metadata": {},
   "outputs": [
    {
     "ename": "TypeError",
     "evalue": "'tuple' object does not support item assignment",
     "output_type": "error",
     "traceback": [
      "\u001b[1;31m---------------------------------------------------------------------------\u001b[0m",
      "\u001b[1;31mTypeError\u001b[0m                                 Traceback (most recent call last)",
      "Cell \u001b[1;32mIn[43], line 1\u001b[0m\n\u001b[1;32m----> 1\u001b[0m my_tuple [\u001b[38;5;241m2\u001b[39m] \u001b[38;5;241m=\u001b[39m \u001b[38;5;124m'\u001b[39m\u001b[38;5;124mhello\u001b[39m\u001b[38;5;124m'\u001b[39m\n",
      "\u001b[1;31mTypeError\u001b[0m: 'tuple' object does not support item assignment"
     ]
    }
   ],
   "source": [
    "my_tuple [2] = 'hello'"
   ]
  },
  {
   "cell_type": "code",
   "execution_count": 44,
   "id": "7b7f82b5",
   "metadata": {},
   "outputs": [],
   "source": [
    "my_tuple = (1, 2, 3, 'a', 'b', True, '',['a', 'b', True, 30.1])"
   ]
  },
  {
   "cell_type": "code",
   "execution_count": 46,
   "id": "90c0e93a",
   "metadata": {},
   "outputs": [],
   "source": [
    "my_tuple[7] [1] = 'banana'"
   ]
  },
  {
   "cell_type": "code",
   "execution_count": 47,
   "id": "0d269143",
   "metadata": {},
   "outputs": [
    {
     "data": {
      "text/plain": [
       "(1, 2, 3, 'a', 'b', True, '', ['a', 'banana', True, 30.1])"
      ]
     },
     "execution_count": 47,
     "metadata": {},
     "output_type": "execute_result"
    }
   ],
   "source": [
    "my_tuple"
   ]
  },
  {
   "cell_type": "code",
   "execution_count": 48,
   "id": "b0ab2ac2",
   "metadata": {},
   "outputs": [],
   "source": [
    "my_tuple = (1, 2, 3, 'a', 'b', True, '',['a', 'b', True, 30.1])"
   ]
  },
  {
   "cell_type": "code",
   "execution_count": 54,
   "id": "bee5d09d",
   "metadata": {},
   "outputs": [
    {
     "data": {
      "text/plain": [
       "1"
      ]
     },
     "execution_count": 54,
     "metadata": {},
     "output_type": "execute_result"
    }
   ],
   "source": [
    "my_tuple.count('a')"
   ]
  },
  {
   "cell_type": "code",
   "execution_count": 55,
   "id": "56b80cbb",
   "metadata": {},
   "outputs": [],
   "source": [
    "my_tuple = (1, 2, 3, 'a', 'b', True, '','a', 'b', True, 30.1)"
   ]
  },
  {
   "cell_type": "code",
   "execution_count": 56,
   "id": "b13ffe9b",
   "metadata": {},
   "outputs": [
    {
     "data": {
      "text/plain": [
       "2"
      ]
     },
     "execution_count": 56,
     "metadata": {},
     "output_type": "execute_result"
    }
   ],
   "source": [
    "my_tuple.count('a')"
   ]
  },
  {
   "cell_type": "code",
   "execution_count": 57,
   "id": "b3e24ddb",
   "metadata": {},
   "outputs": [
    {
     "name": "stdout",
     "output_type": "stream",
     "text": [
      "True\n"
     ]
    }
   ],
   "source": [
    "print('a' in my_tuple)"
   ]
  },
  {
   "cell_type": "code",
   "execution_count": 58,
   "id": "7e760b8d",
   "metadata": {},
   "outputs": [
    {
     "name": "stdout",
     "output_type": "stream",
     "text": [
      "True\n"
     ]
    }
   ],
   "source": [
    "print('apple' not in my_tuple)"
   ]
  },
  {
   "cell_type": "code",
   "execution_count": 60,
   "id": "afe55f82",
   "metadata": {},
   "outputs": [
    {
     "name": "stdout",
     "output_type": "stream",
     "text": [
      "Tuple value : 1\n",
      "Tuple value : 2\n",
      "Tuple value : 3\n",
      "Tuple value : a\n",
      "Tuple value : b\n",
      "Tuple value : True\n",
      "Tuple value : \n",
      "Tuple value : a\n",
      "Tuple value : b\n",
      "Tuple value : True\n",
      "Tuple value : 30.1\n"
     ]
    }
   ],
   "source": [
    "for i in my_tuple:\n",
    "    print(f\"Tuple value : {i}\")"
   ]
  },
  {
   "cell_type": "code",
   "execution_count": 113,
   "id": "a5afcc47",
   "metadata": {},
   "outputs": [],
   "source": [
    "my_dict = {'a':'apple', 'b':'banana', 'c':'cat', 'list':[1,2,3, \"True\"], 'tuple':(1,2,3,True)}"
   ]
  },
  {
   "cell_type": "code",
   "execution_count": 75,
   "id": "ddd2399d",
   "metadata": {},
   "outputs": [
    {
     "data": {
      "text/plain": [
       "{'a': 'apple',\n",
       " 'b': 'banana',\n",
       " 'c': 'cat',\n",
       " 'list': [1, 2, 3, 'True'],\n",
       " 'tuple': (1, 2, 3, True)}"
      ]
     },
     "execution_count": 75,
     "metadata": {},
     "output_type": "execute_result"
    }
   ],
   "source": [
    "my_dict"
   ]
  },
  {
   "cell_type": "code",
   "execution_count": 103,
   "id": "9832b369",
   "metadata": {},
   "outputs": [
    {
     "data": {
      "text/plain": [
       "[1, 2, 3, 'True']"
      ]
     },
     "execution_count": 103,
     "metadata": {},
     "output_type": "execute_result"
    }
   ],
   "source": [
    "my_dict['list']"
   ]
  },
  {
   "cell_type": "code",
   "execution_count": 114,
   "id": "1a4f0ed8",
   "metadata": {
    "scrolled": true
   },
   "outputs": [
    {
     "data": {
      "text/plain": [
       "(1, 2, 3, True)"
      ]
     },
     "execution_count": 114,
     "metadata": {},
     "output_type": "execute_result"
    }
   ],
   "source": [
    "my_dict.get('tuple')"
   ]
  },
  {
   "cell_type": "code",
   "execution_count": 115,
   "id": "19e190be",
   "metadata": {},
   "outputs": [],
   "source": [
    "my_dict['a'] = 'Address'"
   ]
  },
  {
   "cell_type": "code",
   "execution_count": 116,
   "id": "948566ca",
   "metadata": {},
   "outputs": [
    {
     "data": {
      "text/plain": [
       "{'a': 'Address',\n",
       " 'b': 'banana',\n",
       " 'c': 'cat',\n",
       " 'list': [1, 2, 3, 'True'],\n",
       " 'tuple': (1, 2, 3, True)}"
      ]
     },
     "execution_count": 116,
     "metadata": {},
     "output_type": "execute_result"
    }
   ],
   "source": [
    "my_dict"
   ]
  },
  {
   "cell_type": "code",
   "execution_count": 117,
   "id": "f24f7664",
   "metadata": {},
   "outputs": [
    {
     "data": {
      "text/plain": [
       "(1, 2, 3, True)"
      ]
     },
     "execution_count": 117,
     "metadata": {},
     "output_type": "execute_result"
    }
   ],
   "source": [
    "my_dict.pop('tuple')"
   ]
  },
  {
   "cell_type": "code",
   "execution_count": 118,
   "id": "92ceb9ca",
   "metadata": {},
   "outputs": [
    {
     "data": {
      "text/plain": [
       "{'a': 'Address', 'b': 'banana', 'c': 'cat', 'list': [1, 2, 3, 'True']}"
      ]
     },
     "execution_count": 118,
     "metadata": {},
     "output_type": "execute_result"
    }
   ],
   "source": [
    "my_dict"
   ]
  },
  {
   "cell_type": "code",
   "execution_count": 119,
   "id": "923cac94",
   "metadata": {},
   "outputs": [
    {
     "data": {
      "text/plain": [
       "('list', [1, 2, 3, 'True'])"
      ]
     },
     "execution_count": 119,
     "metadata": {},
     "output_type": "execute_result"
    }
   ],
   "source": [
    "my_dict.popitem()"
   ]
  },
  {
   "cell_type": "code",
   "execution_count": 120,
   "id": "afd3d0a0",
   "metadata": {},
   "outputs": [
    {
     "data": {
      "text/plain": [
       "{'a': 'Address', 'b': 'banana', 'c': 'cat'}"
      ]
     },
     "execution_count": 120,
     "metadata": {},
     "output_type": "execute_result"
    }
   ],
   "source": [
    "my_dict"
   ]
  },
  {
   "cell_type": "code",
   "execution_count": null,
   "id": "5282704b",
   "metadata": {},
   "outputs": [],
   "source": []
  },
  {
   "cell_type": "code",
   "execution_count": 65,
   "id": "6b4a87de",
   "metadata": {},
   "outputs": [],
   "source": [
    "my_dict = dict({1:'apple', 2:'banana'})"
   ]
  },
  {
   "cell_type": "code",
   "execution_count": 66,
   "id": "c4b53c0c",
   "metadata": {},
   "outputs": [
    {
     "data": {
      "text/plain": [
       "{1: 'apple', 2: 'banana'}"
      ]
     },
     "execution_count": 66,
     "metadata": {},
     "output_type": "execute_result"
    }
   ],
   "source": [
    "my_dict"
   ]
  },
  {
   "cell_type": "code",
   "execution_count": 71,
   "id": "12af81e0",
   "metadata": {},
   "outputs": [],
   "source": [
    "my_dict = dict([(1,'apple'),(2,'banana')])"
   ]
  },
  {
   "cell_type": "code",
   "execution_count": 72,
   "id": "73500a82",
   "metadata": {},
   "outputs": [
    {
     "data": {
      "text/plain": [
       "{1: 'apple', 2: 'banana'}"
      ]
     },
     "execution_count": 72,
     "metadata": {},
     "output_type": "execute_result"
    }
   ],
   "source": [
    "my_dict"
   ]
  },
  {
   "cell_type": "code",
   "execution_count": null,
   "id": "195ef2ba",
   "metadata": {},
   "outputs": [],
   "source": []
  }
 ],
 "metadata": {
  "kernelspec": {
   "display_name": "Python 3 (ipykernel)",
   "language": "python",
   "name": "python3"
  },
  "language_info": {
   "codemirror_mode": {
    "name": "ipython",
    "version": 3
   },
   "file_extension": ".py",
   "mimetype": "text/x-python",
   "name": "python",
   "nbconvert_exporter": "python",
   "pygments_lexer": "ipython3",
   "version": "3.10.9"
  }
 },
 "nbformat": 4,
 "nbformat_minor": 5
}

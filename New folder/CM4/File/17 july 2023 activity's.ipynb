{
 "cells": [
  {
   "cell_type": "markdown",
   "id": "efda1b2d",
   "metadata": {},
   "source": [
    "# Write a Python program to create a tuple."
   ]
  },
  {
   "cell_type": "code",
   "execution_count": 2,
   "id": "2c0a10d0",
   "metadata": {},
   "outputs": [
    {
     "name": "stdout",
     "output_type": "stream",
     "text": [
      "(1, 2, 3)\n"
     ]
    }
   ],
   "source": [
    "my_tuple = (1,2,3)\n",
    "print(my_tuple)"
   ]
  },
  {
   "cell_type": "code",
   "execution_count": 5,
   "id": "34324fc7",
   "metadata": {},
   "outputs": [
    {
     "name": "stdout",
     "output_type": "stream",
     "text": [
      "(1, 2, 3, 'apple', 'banana', ['a', 'b', 'c'], True, (10, 11, 'True', True), '')\n"
     ]
    }
   ],
   "source": [
    "my_tuple = (1,2,3, 'apple', 'banana', ['a','b','c'], True, (10,11, 'True', True), '')\n",
    "print(my_tuple)"
   ]
  },
  {
   "cell_type": "markdown",
   "id": "b4f7a41c",
   "metadata": {},
   "source": [
    "# Write a Python program to convert temperatures to and from Centigrade to Fahrenheit\n"
   ]
  },
  {
   "cell_type": "code",
   "execution_count": 6,
   "id": "4aaf1000",
   "metadata": {},
   "outputs": [
    {
     "name": "stdout",
     "output_type": "stream",
     "text": [
      "Enter a temperature in Fahrenheit: 10\n",
      "Temperature: 10.0 Fahrenheit =  -12.222222222222221  C\n",
      "Enter a temperature in Celsius: 10\n",
      "Temperature: 10.0 Celsius =  50.0  F\n"
     ]
    }
   ],
   "source": [
    "Fahrenheit = float(input(\"Enter a temperature in Fahrenheit: \"))\n",
    "Celsius = (Fahrenheit - 32) * 5.0/9.0\n",
    "print (\"Temperature:\", Fahrenheit, \"Fahrenheit = \", Celsius, \" C\")\n",
    "Celsius = float(input(\"Enter a temperature in Celsius: \"))\n",
    "Fahrenheit = 9.0/5.0 * Celsius + 32\n",
    "print (\"Temperature:\", Celsius, \"Celsius = \", Fahrenheit, \" F\")\n"
   ]
  },
  {
   "cell_type": "markdown",
   "id": "056f99f4",
   "metadata": {},
   "source": [
    "# Write a python program multiplying strings to form string with repeating sequence\n"
   ]
  },
  {
   "cell_type": "code",
   "execution_count": 8,
   "id": "1fbcc0ad",
   "metadata": {},
   "outputs": [
    {
     "name": "stdout",
     "output_type": "stream",
     "text": [
      "apple banana apple banana apple banana apple banana apple banana \n"
     ]
    }
   ],
   "source": [
    "a = 'apple '\n",
    "b = 'banana '\n",
    "print((a+b)*5)"
   ]
  },
  {
   "cell_type": "markdown",
   "id": "ddb1de41",
   "metadata": {},
   "source": [
    "# Write a Python program to create a dictionary and perform functional operations"
   ]
  },
  {
   "cell_type": "code",
   "execution_count": 12,
   "id": "28e28253",
   "metadata": {},
   "outputs": [],
   "source": [
    "my_dict = {'a':'apple', 'b':'banana', 'c':'cat', 'list':[1,2,3, \"True\"], 'tuple':(1,2,3,True)}"
   ]
  },
  {
   "cell_type": "code",
   "execution_count": 14,
   "id": "3e9fe243",
   "metadata": {},
   "outputs": [
    {
     "data": {
      "text/plain": [
       "(1, 2, 3, True)"
      ]
     },
     "execution_count": 14,
     "metadata": {},
     "output_type": "execute_result"
    }
   ],
   "source": [
    "my_dict.pop('tuple')"
   ]
  },
  {
   "cell_type": "code",
   "execution_count": 15,
   "id": "e79dacf0",
   "metadata": {},
   "outputs": [
    {
     "data": {
      "text/plain": [
       "{'a': 'apple', 'b': 'banana', 'c': 'cat', 'list': [1, 2, 3, 'True']}"
      ]
     },
     "execution_count": 15,
     "metadata": {},
     "output_type": "execute_result"
    }
   ],
   "source": [
    "my_dict"
   ]
  },
  {
   "cell_type": "code",
   "execution_count": 16,
   "id": "217b186d",
   "metadata": {},
   "outputs": [
    {
     "data": {
      "text/plain": [
       "('list', [1, 2, 3, 'True'])"
      ]
     },
     "execution_count": 16,
     "metadata": {},
     "output_type": "execute_result"
    }
   ],
   "source": [
    "my_dict.popitem()"
   ]
  },
  {
   "cell_type": "code",
   "execution_count": 17,
   "id": "d1102960",
   "metadata": {},
   "outputs": [
    {
     "data": {
      "text/plain": [
       "{'a': 'apple', 'b': 'banana', 'c': 'cat'}"
      ]
     },
     "execution_count": 17,
     "metadata": {},
     "output_type": "execute_result"
    }
   ],
   "source": [
    "my_dict"
   ]
  },
  {
   "cell_type": "code",
   "execution_count": null,
   "id": "979b66e2",
   "metadata": {},
   "outputs": [],
   "source": []
  }
 ],
 "metadata": {
  "kernelspec": {
   "display_name": "Python 3 (ipykernel)",
   "language": "python",
   "name": "python3"
  },
  "language_info": {
   "codemirror_mode": {
    "name": "ipython",
    "version": 3
   },
   "file_extension": ".py",
   "mimetype": "text/x-python",
   "name": "python",
   "nbconvert_exporter": "python",
   "pygments_lexer": "ipython3",
   "version": "3.10.9"
  }
 },
 "nbformat": 4,
 "nbformat_minor": 5
}

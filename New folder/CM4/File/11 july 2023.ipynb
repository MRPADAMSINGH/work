{
 "cells": [
  {
   "cell_type": "code",
   "execution_count": 7,
   "id": "20b23004",
   "metadata": {},
   "outputs": [
    {
     "name": "stdout",
     "output_type": "stream",
     "text": [
      "0b1000000000\n"
     ]
    }
   ],
   "source": [
    "a = 4\n",
    "print(bin(a<<7))"
   ]
  },
  {
   "cell_type": "code",
   "execution_count": 5,
   "id": "2dc0c7bd",
   "metadata": {},
   "outputs": [
    {
     "name": "stdout",
     "output_type": "stream",
     "text": [
      "512\n"
     ]
    }
   ],
   "source": [
    "a = 4\n",
    "print(a<<7)"
   ]
  },
  {
   "cell_type": "code",
   "execution_count": null,
   "id": "907c18bf",
   "metadata": {},
   "outputs": [],
   "source": []
  }
 ],
 "metadata": {
  "kernelspec": {
   "display_name": "Python 3 (ipykernel)",
   "language": "python",
   "name": "python3"
  },
  "language_info": {
   "codemirror_mode": {
    "name": "ipython",
    "version": 3
   },
   "file_extension": ".py",
   "mimetype": "text/x-python",
   "name": "python",
   "nbconvert_exporter": "python",
   "pygments_lexer": "ipython3",
   "version": "3.10.9"
  }
 },
 "nbformat": 4,
 "nbformat_minor": 5
}

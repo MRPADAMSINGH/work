{
 "cells": [
  {
   "cell_type": "code",
   "execution_count": 5,
   "id": "e62e0cff",
   "metadata": {},
   "outputs": [
    {
     "name": "stdout",
     "output_type": "stream",
     "text": [
      "1223334444"
     ]
    }
   ],
   "source": [
    "#7\n",
    "for i in range(5):\n",
    "    for j in range(i):\n",
    "        print(i, end='')"
   ]
  },
  {
   "cell_type": "code",
   "execution_count": 22,
   "id": "15493806",
   "metadata": {},
   "outputs": [
    {
     "name": "stdout",
     "output_type": "stream",
     "text": [
      "99\n"
     ]
    }
   ],
   "source": [
    "#8\n",
    "count = 0\n",
    "for i in range(1,100):\n",
    "    count += 1\n",
    "    i *= 2\n",
    "print(count)"
   ]
  },
  {
   "cell_type": "code",
   "execution_count": 13,
   "id": "939dbc72",
   "metadata": {},
   "outputs": [
    {
     "name": "stdout",
     "output_type": "stream",
     "text": [
      "2\n",
      "4\n"
     ]
    }
   ],
   "source": [
    "#9\n",
    "numbers = [1,2,3,4,5]\n",
    "for i in range(len(numbers)):\n",
    "    if i % 2 == 0:\n",
    "        continue\n",
    "    print(numbers[i])"
   ]
  },
  {
   "cell_type": "code",
   "execution_count": 14,
   "id": "c602f9b3",
   "metadata": {},
   "outputs": [
    {
     "name": "stdout",
     "output_type": "stream",
     "text": [
      "30\n"
     ]
    }
   ],
   "source": [
    "total = 0\n",
    "for i in range(5):\n",
    "    for j in range(5):\n",
    "        if i == j:\n",
    "            total += i * j\n",
    "print(total)"
   ]
  },
  {
   "cell_type": "code",
   "execution_count": 15,
   "id": "d832da17",
   "metadata": {},
   "outputs": [
    {
     "name": "stdout",
     "output_type": "stream",
     "text": [
      "10\n"
     ]
    }
   ],
   "source": [
    "def strange_function(a,b):\n",
    "    if a == 0:\n",
    "        return b\n",
    "    else:\n",
    "        return strange_function(a-1,a+b)\n",
    "result = strange_function(3,4)\n",
    "print(result)"
   ]
  },
  {
   "cell_type": "code",
   "execution_count": 24,
   "id": "61c73f15",
   "metadata": {},
   "outputs": [
    {
     "name": "stdout",
     "output_type": "stream",
     "text": [
      "0\n"
     ]
    }
   ],
   "source": [
    "total = 0\n",
    "for i in range(5):\n",
    "    for j in range(5):\n",
    "        if i == j:\n",
    "            break\n",
    "            total += i * j\n",
    "print(total)"
   ]
  },
  {
   "cell_type": "code",
   "execution_count": 18,
   "id": "65cf6e71",
   "metadata": {},
   "outputs": [
    {
     "name": "stdout",
     "output_type": "stream",
     "text": [
      "6\n"
     ]
    }
   ],
   "source": [
    "def foo(x):\n",
    "    return x * 2\n",
    "\n",
    "def bar(x):\n",
    "    return foo(x +2)\n",
    "def baz(x):\n",
    "    return bar(x -2)\n",
    "result = baz(3)\n",
    "print(result)"
   ]
  },
  {
   "cell_type": "code",
   "execution_count": 19,
   "id": "49dfed67",
   "metadata": {},
   "outputs": [
    {
     "name": "stdout",
     "output_type": "stream",
     "text": [
      "6\n"
     ]
    }
   ],
   "source": [
    "numbers = [1,2,3,4,5]\n",
    "total = 0\n",
    "\n",
    "for num in numbers:\n",
    "    total += num\n",
    "    if num == 3:\n",
    "        break\n",
    "else:\n",
    "    total = 100\n",
    "print(total)"
   ]
  },
  {
   "cell_type": "code",
   "execution_count": 25,
   "id": "a82da73a",
   "metadata": {},
   "outputs": [],
   "source": [
    "my_tuple = (1,2,3,4,5,\"hello\")"
   ]
  },
  {
   "cell_type": "code",
   "execution_count": 26,
   "id": "f045b82a",
   "metadata": {},
   "outputs": [
    {
     "data": {
      "text/plain": [
       "(1, 2, 3, 4, 5, 'hello')"
      ]
     },
     "execution_count": 26,
     "metadata": {},
     "output_type": "execute_result"
    }
   ],
   "source": [
    "my_tuple"
   ]
  },
  {
   "cell_type": "code",
   "execution_count": 28,
   "id": "c3ca5733",
   "metadata": {},
   "outputs": [
    {
     "data": {
      "text/plain": [
       "tuple"
      ]
     },
     "execution_count": 28,
     "metadata": {},
     "output_type": "execute_result"
    }
   ],
   "source": [
    "type(my_tuple)"
   ]
  },
  {
   "cell_type": "code",
   "execution_count": 46,
   "id": "f3fd96ac",
   "metadata": {},
   "outputs": [
    {
     "name": "stdout",
     "output_type": "stream",
     "text": [
      "[1, 2, 4, 5, 10, 20]\n"
     ]
    }
   ],
   "source": [
    "a = 20\n",
    "list_a = []\n",
    "for i in range(1, a+1):\n",
    "    if a%i==0:\n",
    "        #print(i,\"\", end='')\n",
    "        list_a.append(i)\n",
    "print(list_a)"
   ]
  },
  {
   "cell_type": "code",
   "execution_count": 47,
   "id": "d1232458",
   "metadata": {},
   "outputs": [
    {
     "name": "stdout",
     "output_type": "stream",
     "text": [
      "[1, 3, 5, 15]\n"
     ]
    }
   ],
   "source": [
    "b = 15\n",
    "list_b = []\n",
    "for j in range(1, b+1):\n",
    "    if b%j==0:\n",
    "        #print(j,\"\",end='')\n",
    "        list_b.append(j)\n",
    "print(list_b)"
   ]
  },
  {
   "cell_type": "code",
   "execution_count": 38,
   "id": "602db370",
   "metadata": {},
   "outputs": [
    {
     "name": "stdout",
     "output_type": "stream",
     "text": [
      "5\n"
     ]
    }
   ],
   "source": [
    "result = set(list_a) & set(list_b)\n",
    "print(max(result))"
   ]
  },
  {
   "cell_type": "code",
   "execution_count": 41,
   "id": "207fedd9",
   "metadata": {},
   "outputs": [
    {
     "name": "stdout",
     "output_type": "stream",
     "text": [
      "Insert your 1st value :20\n",
      "1 2 4 5 10 20 [1, 2, 4, 5, 10, 20]\n"
     ]
    }
   ],
   "source": [
    "a = int(input(\"Insert your 1st value :\"))\n",
    "list_a = []\n",
    "for i in range(1, a+1):\n",
    "    if a%i==0:\n",
    "        print(i,\"\", end='')\n",
    "        list_a.append(i)\n",
    "print(list_a)"
   ]
  },
  {
   "cell_type": "code",
   "execution_count": 42,
   "id": "b19a2165",
   "metadata": {},
   "outputs": [
    {
     "name": "stdout",
     "output_type": "stream",
     "text": [
      "Insert your 2nd value :31\n",
      "1 31 [1, 31]\n"
     ]
    }
   ],
   "source": [
    "b = int(input(\"Insert your 2nd value :\"))\n",
    "list_b = []\n",
    "for j in range(1, b+1):\n",
    "    if b%j==0:\n",
    "        print(j,\"\",end='')\n",
    "        list_b.append(j)\n",
    "print(list_b)"
   ]
  },
  {
   "cell_type": "code",
   "execution_count": 44,
   "id": "1b14316b",
   "metadata": {},
   "outputs": [
    {
     "name": "stdout",
     "output_type": "stream",
     "text": [
      "1\n"
     ]
    }
   ],
   "source": [
    "result = set(list_a) & set(list_b)\n",
    "print(max(result))"
   ]
  },
  {
   "cell_type": "code",
   "execution_count": null,
   "id": "3f158ecf",
   "metadata": {},
   "outputs": [],
   "source": []
  },
  {
   "cell_type": "code",
   "execution_count": null,
   "id": "900e25a8",
   "metadata": {},
   "outputs": [],
   "source": []
  }
 ],
 "metadata": {
  "kernelspec": {
   "display_name": "Python 3 (ipykernel)",
   "language": "python",
   "name": "python3"
  },
  "language_info": {
   "codemirror_mode": {
    "name": "ipython",
    "version": 3
   },
   "file_extension": ".py",
   "mimetype": "text/x-python",
   "name": "python",
   "nbconvert_exporter": "python",
   "pygments_lexer": "ipython3",
   "version": "3.10.9"
  }
 },
 "nbformat": 4,
 "nbformat_minor": 5
}

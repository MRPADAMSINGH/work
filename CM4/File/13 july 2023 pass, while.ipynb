{
 "cells": [
  {
   "cell_type": "code",
   "execution_count": 14,
   "id": "f321a54a",
   "metadata": {
    "scrolled": true
   },
   "outputs": [
    {
     "name": "stdout",
     "output_type": "stream",
     "text": [
      "Enter the value of n: 5\n"
     ]
    }
   ],
   "source": [
    "\n",
    "def calsum(n):\n",
    "    sum = 0\n",
    "    for i in range(1, n+1):\n",
    "        sum += i\n",
    "    return sum\n",
    "n = int(input(\"Enter the value of n: \"))\n",
    "result = calsum(n)\n",
    "print(f\"The sum of the first {n} numbers is: {result}\")\n"
   ]
  },
  {
   "cell_type": "code",
   "execution_count": 21,
   "id": "13edb88f",
   "metadata": {},
   "outputs": [
    {
     "name": "stdout",
     "output_type": "stream",
     "text": [
      "Sum of 10 is 55\n"
     ]
    }
   ],
   "source": [
    "def calsum(n):\n",
    "    sum = 0\n",
    "    for i in range(1, n+1):\n",
    "        sum +=i\n",
    "    print(f'Sum of {n} is {sum}')\n",
    "calsum(10)"
   ]
  },
  {
   "cell_type": "code",
   "execution_count": 5,
   "id": "0a188c3b",
   "metadata": {},
   "outputs": [
    {
     "name": "stdout",
     "output_type": "stream",
     "text": [
      "Sum of 10 is 3628800\n"
     ]
    }
   ],
   "source": [
    "def calsum(n):\n",
    "    mul = 1\n",
    "    for i in range(1, n+1):\n",
    "        mul *=i\n",
    "    print(f'Sum of {n} is {mul}')\n",
    "calsum(10)"
   ]
  },
  {
   "cell_type": "code",
   "execution_count": 6,
   "id": "ded84345",
   "metadata": {},
   "outputs": [
    {
     "name": "stdout",
     "output_type": "stream",
     "text": [
      "Enter a Number: 1\n",
      "1 is Odd\n"
     ]
    }
   ],
   "source": [
    "num = int(input('Enter a Number: '))\n",
    "if num%2==0:\n",
    "    print(f'{num} is Even')\n",
    "else:\n",
    "    print(f'{num} is Odd')"
   ]
  },
  {
   "cell_type": "code",
   "execution_count": 10,
   "id": "c9cfa394",
   "metadata": {},
   "outputs": [
    {
     "name": "stdout",
     "output_type": "stream",
     "text": [
      "Enter the value of n: 5\n",
      "The sum of the first  5  numbers is: 120\n"
     ]
    }
   ],
   "source": [
    "def calsum(n):\n",
    "    mul = 1\n",
    "    if num%2==1:\n",
    "        for i in range(1, n+1):\n",
    "            mul *= i\n",
    "        return mul\n",
    "n = int(input(\"Enter the value of n: \"))\n",
    "result = calsum(n)\n",
    "print(\"The sum of the first \", n ,\" numbers is:\",result)"
   ]
  },
  {
   "cell_type": "code",
   "execution_count": 35,
   "id": "bed62c0c",
   "metadata": {},
   "outputs": [
    {
     "data": {
      "text/plain": [
       "15"
      ]
     },
     "execution_count": 35,
     "metadata": {},
     "output_type": "execute_result"
    }
   ],
   "source": [
    "def calsum(n):\n",
    "    sum = 0\n",
    "    for i in range(1, n+1):\n",
    "        sum +=i\n",
    "    return(sum)\n",
    "calsum(5)"
   ]
  },
  {
   "cell_type": "code",
   "execution_count": null,
   "id": "ff19556d",
   "metadata": {},
   "outputs": [],
   "source": []
  }
 ],
 "metadata": {
  "kernelspec": {
   "display_name": "Python 3 (ipykernel)",
   "language": "python",
   "name": "python3"
  },
  "language_info": {
   "codemirror_mode": {
    "name": "ipython",
    "version": 3
   },
   "file_extension": ".py",
   "mimetype": "text/x-python",
   "name": "python",
   "nbconvert_exporter": "python",
   "pygments_lexer": "ipython3",
   "version": "3.10.9"
  }
 },
 "nbformat": 4,
 "nbformat_minor": 5
}

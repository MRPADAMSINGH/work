{
 "cells": [
  {
   "cell_type": "raw",
   "id": "2e264fdf",
   "metadata": {},
   "source": []
  },
  {
   "cell_type": "code",
   "execution_count": 11,
   "id": "84c4c53a",
   "metadata": {},
   "outputs": [
    {
     "data": {
      "text/plain": [
       "'Sum of a and b: 16'"
      ]
     },
     "execution_count": 11,
     "metadata": {},
     "output_type": "execute_result"
    }
   ],
   "source": []
  },
  {
   "cell_type": "code",
   "execution_count": 14,
   "id": "73d4c604",
   "metadata": {},
   "outputs": [
    {
     "name": "stdout",
     "output_type": "stream",
     "text": [
      "Sum of a and b: 16\n"
     ]
    }
   ],
   "source": [
    "def add(a=11,b=5):\n",
    "    print(f\"Sum of a and b: {a+b}\")\n",
    "add()\n"
   ]
  },
  {
   "cell_type": "code",
   "execution_count": 16,
   "id": "49d9e12f",
   "metadata": {},
   "outputs": [
    {
     "data": {
      "text/plain": [
       "'Sum of a and b: 20'"
      ]
     },
     "execution_count": 16,
     "metadata": {},
     "output_type": "execute_result"
    }
   ],
   "source": [
    "def add(a=15,b=5):\n",
    "    return(f\"Sum of a and b: {a+b}\")\n",
    "add()"
   ]
  },
  {
   "cell_type": "code",
   "execution_count": 21,
   "id": "4a651449",
   "metadata": {},
   "outputs": [],
   "source": [
    "def add(a,b):\n",
    "    return(f\"Sum of a and b: {a+b}\")"
   ]
  },
  {
   "cell_type": "code",
   "execution_count": 23,
   "id": "145b2d1e",
   "metadata": {},
   "outputs": [
    {
     "data": {
      "text/plain": [
       "'Sum of a and b: 704'"
      ]
     },
     "execution_count": 23,
     "metadata": {},
     "output_type": "execute_result"
    }
   ],
   "source": [
    "add(150,554)"
   ]
  },
  {
   "cell_type": "code",
   "execution_count": 28,
   "id": "cf7bbb0e",
   "metadata": {},
   "outputs": [
    {
     "data": {
      "text/plain": [
       "'Square of 7 is : 49'"
      ]
     },
     "execution_count": 28,
     "metadata": {},
     "output_type": "execute_result"
    }
   ],
   "source": [
    "def sqr(num):\n",
    "    return(f\"Square of {num} is : {num*num}\")\n",
    "sqr(7)"
   ]
  },
  {
   "cell_type": "code",
   "execution_count": null,
   "id": "d249ac44",
   "metadata": {},
   "outputs": [],
   "source": []
  },
  {
   "cell_type": "code",
   "execution_count": 29,
   "id": "d14a17f1",
   "metadata": {},
   "outputs": [],
   "source": [
    "import math"
   ]
  },
  {
   "cell_type": "code",
   "execution_count": 31,
   "id": "9f58249c",
   "metadata": {},
   "outputs": [
    {
     "name": "stdout",
     "output_type": "stream",
     "text": [
      "Square root of 16 is: 4.0\n"
     ]
    }
   ],
   "source": [
    "square_root=math.sqrt(16)\n",
    "print(\"Square root of 16 is:\", square_root)"
   ]
  },
  {
   "cell_type": "code",
   "execution_count": 32,
   "id": "c6009be8",
   "metadata": {},
   "outputs": [
    {
     "name": "stdout",
     "output_type": "stream",
     "text": [
      "Square root of 16 is: 4.0\n"
     ]
    }
   ],
   "source": [
    "from math import *\n",
    "square_root=sqrt(16)\n",
    "print(\"Square root of 16 is:\", square_root)"
   ]
  },
  {
   "cell_type": "code",
   "execution_count": 35,
   "id": "c1fd2ee4",
   "metadata": {},
   "outputs": [
    {
     "name": "stdout",
     "output_type": "stream",
     "text": [
      " 4 to the power 5 is : 1024.0\n"
     ]
    }
   ],
   "source": [
    "power = pow(4,5)\n",
    "print(f\" 4 to the power 5 is : {power}\")"
   ]
  },
  {
   "cell_type": "code",
   "execution_count": 55,
   "id": "6db02052",
   "metadata": {},
   "outputs": [
    {
     "data": {
      "text/plain": [
       "120"
      ]
     },
     "execution_count": 55,
     "metadata": {},
     "output_type": "execute_result"
    }
   ],
   "source": [
    "def factorial(x):\n",
    "    if x == 1:\n",
    "        return 1\n",
    "    else:\n",
    "        return (x*factorial(x-1))\n",
    "factorial(5)"
   ]
  },
  {
   "cell_type": "code",
   "execution_count": 58,
   "id": "74ccf19d",
   "metadata": {},
   "outputs": [
    {
     "name": "stdout",
     "output_type": "stream",
     "text": [
      "9\n"
     ]
    }
   ],
   "source": [
    "adder = lambda a,b:a+b\n",
    "print(adder(4,5))"
   ]
  },
  {
   "cell_type": "markdown",
   "id": "33dde175",
   "metadata": {},
   "source": [
    "# Lambda"
   ]
  },
  {
   "cell_type": "code",
   "execution_count": 61,
   "id": "d5ff0b4f",
   "metadata": {},
   "outputs": [
    {
     "name": "stdout",
     "output_type": "stream",
     "text": [
      "<function <lambda> at 0x0000019BE62C2830>\n"
     ]
    }
   ],
   "source": [
    "a = \"Lambda\"\n",
    "print(lambda a:print(a)) #if we want to know the memory loaction then we can go with this using of print.(0x000019 is the object of lambda)"
   ]
  },
  {
   "cell_type": "code",
   "execution_count": 60,
   "id": "2c9c3a0f",
   "metadata": {},
   "outputs": [
    {
     "name": "stdout",
     "output_type": "stream",
     "text": [
      "Lambda\n"
     ]
    }
   ],
   "source": [
    "a = \"Lambda\"\n",
    "(lambda a:print(a)) (a) #if you want exact Output the go with this."
   ]
  },
  {
   "cell_type": "markdown",
   "id": "df4ae476",
   "metadata": {},
   "source": [
    "# Conditional Statements"
   ]
  },
  {
   "cell_type": "code",
   "execution_count": 2,
   "id": "8af9f22c",
   "metadata": {},
   "outputs": [
    {
     "name": "stdout",
     "output_type": "stream",
     "text": [
      "36\n"
     ]
    }
   ],
   "source": [
    "# Lambda function with if but without else.\n",
    "square = lambda x : x*x if(x > 0) else None\n",
    "print(square(6))"
   ]
  },
  {
   "cell_type": "code",
   "execution_count": 7,
   "id": "1590d23a",
   "metadata": {},
   "outputs": [
    {
     "name": "stdout",
     "output_type": "stream",
     "text": [
      "2\n",
      "10\n"
     ]
    }
   ],
   "source": [
    "# Example of lambda function using if-else\n",
    "max = lambda a, b : a if(a > b) else b\n",
    " \n",
    "print(max(1, 2))\n",
    "print(max(10, 2))"
   ]
  },
  {
   "cell_type": "code",
   "execution_count": 8,
   "id": "7a79e333",
   "metadata": {},
   "outputs": [
    {
     "name": "stdout",
     "output_type": "stream",
     "text": [
      "12 is even\n",
      "11 is odd\n"
     ]
    }
   ],
   "source": [
    "# Use if-else in Lambda Functions\n",
    " \n",
    "# check if number is even or odd\n",
    "result = lambda x : f\"{x} is even\" if x %2==0 else f\"{x} is odd\"\n",
    " \n",
    "# print for numbers\n",
    "print(result(12))\n",
    "print(result(11))"
   ]
  },
  {
   "cell_type": "code",
   "execution_count": 9,
   "id": "24fcf8c6",
   "metadata": {},
   "outputs": [
    {
     "name": "stdout",
     "output_type": "stream",
     "text": [
      "12 is greater than 11\n",
      "12 is equal to 12\n",
      "12 is smaller than 13\n"
     ]
    }
   ],
   "source": [
    "# Use if-else in Lambda Functions\n",
    " \n",
    "# check if two numbers is equal or greater or lesser\n",
    "result = lambda x,y : f\"{x} is smaller than {y}\" \\\n",
    "if x < y else (f\"{x} is greater than {y}\" if x > y \\\n",
    "               else f\"{x} is equal to {y}\")\n",
    " \n",
    " \n",
    "# print for numbers\n",
    "print(result(12, 11))\n",
    "print(result(12, 12))\n",
    "print(result(12, 13))"
   ]
  },
  {
   "cell_type": "markdown",
   "id": "2acee87d",
   "metadata": {},
   "source": [
    "# Loop"
   ]
  },
  {
   "cell_type": "code",
   "execution_count": 10,
   "id": "b053fbef",
   "metadata": {},
   "outputs": [
    {
     "name": "stdout",
     "output_type": "stream",
     "text": [
      "[16, 4, 169, 441, 25]\n"
     ]
    }
   ],
   "source": [
    "# Iterating With Python Lambdas\n",
    "  \n",
    "# list of numbers\n",
    "l1 = [4, 2, 13, 21, 5]\n",
    "  \n",
    "l2 = []\n",
    "  \n",
    "# run for loop to iterate over list\n",
    "for i in l1:\n",
    "      \n",
    "    # lambda function to make square \n",
    "    # of number\n",
    "    temp=lambda i:i**2\n",
    "  \n",
    "    # save in list2\n",
    "    l2.append(temp(i))\n",
    "  \n",
    "# print list\n",
    "print(l2)"
   ]
  },
  {
   "cell_type": "code",
   "execution_count": 11,
   "id": "e084e6e4",
   "metadata": {},
   "outputs": [
    {
     "name": "stdout",
     "output_type": "stream",
     "text": [
      "[169, 441, 25]\n"
     ]
    }
   ],
   "source": [
    "# Iterating With Python Lambdas\n",
    "  \n",
    "# list of numbers\n",
    "l1 = [4, 2, 13, 21, 5]\n",
    "  \n",
    "# list of square of odd numbers\n",
    "# lambda function is used to iterate over list l1\n",
    "# filter is used to find odd numbers\n",
    "l2 = list(map(lambda v: v ** 2, filter(lambda u: u % 2, l1)))\n",
    "  \n",
    "# print list\n",
    "print(l2)"
   ]
  },
  {
   "cell_type": "code",
   "execution_count": null,
   "id": "0f902d09",
   "metadata": {},
   "outputs": [],
   "source": []
  }
 ],
 "metadata": {
  "kernelspec": {
   "display_name": "Python 3 (ipykernel)",
   "language": "python",
   "name": "python3"
  },
  "language_info": {
   "codemirror_mode": {
    "name": "ipython",
    "version": 3
   },
   "file_extension": ".py",
   "mimetype": "text/x-python",
   "name": "python",
   "nbconvert_exporter": "python",
   "pygments_lexer": "ipython3",
   "version": "3.10.9"
  }
 },
 "nbformat": 4,
 "nbformat_minor": 5
}

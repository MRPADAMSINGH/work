{
 "cells": [
  {
   "cell_type": "code",
   "execution_count": 9,
   "id": "f34a39d3",
   "metadata": {},
   "outputs": [
    {
     "name": "stdout",
     "output_type": "stream",
     "text": [
      "True\n"
     ]
    }
   ],
   "source": [
    "fruit = ['apple', 'mango', 'banana']\n",
    "print('apple' in fruit)"
   ]
  },
  {
   "cell_type": "code",
   "execution_count": 10,
   "id": "e0ac46cd",
   "metadata": {},
   "outputs": [
    {
     "name": "stdout",
     "output_type": "stream",
     "text": [
      "True\n"
     ]
    }
   ],
   "source": [
    "print('orange' not in fruit)"
   ]
  },
  {
   "cell_type": "code",
   "execution_count": 14,
   "id": "e4c9c37d",
   "metadata": {},
   "outputs": [
    {
     "name": "stdout",
     "output_type": "stream",
     "text": [
      "i like : apple\n",
      "i like : mango\n",
      "i like : banana\n"
     ]
    }
   ],
   "source": [
    "for fruit in ['apple', 'mango', 'banana'] :\n",
    "    print('i like :',fruit)"
   ]
  },
  {
   "cell_type": "code",
   "execution_count": 17,
   "id": "012a3cab",
   "metadata": {},
   "outputs": [
    {
     "name": "stdout",
     "output_type": "stream",
     "text": [
      "My fav. color is : black\n",
      "My fav. color is : white\n",
      "My fav. color is : sky blue\n"
     ]
    }
   ],
   "source": [
    "my_list = ['black', 'white', 'sky blue']\n",
    "for i in my_list:\n",
    "    print(f\"My fav. color is : {i}\")"
   ]
  },
  {
   "cell_type": "code",
   "execution_count": 18,
   "id": "a3f594a3",
   "metadata": {},
   "outputs": [
    {
     "data": {
      "text/plain": [
       "['black', 'white', 'sky blue']"
      ]
     },
     "execution_count": 18,
     "metadata": {},
     "output_type": "execute_result"
    }
   ],
   "source": [
    "my_list"
   ]
  },
  {
   "cell_type": "code",
   "execution_count": 21,
   "id": "5925ef2c",
   "metadata": {},
   "outputs": [],
   "source": [
    "my_tuple = (1, 2, 3, 'a', 'b', True, '')"
   ]
  },
  {
   "cell_type": "code",
   "execution_count": 22,
   "id": "42dd23c7",
   "metadata": {},
   "outputs": [
    {
     "data": {
      "text/plain": [
       "1"
      ]
     },
     "execution_count": 22,
     "metadata": {},
     "output_type": "execute_result"
    }
   ],
   "source": [
    "len(my_tuple)"
   ]
  },
  {
   "cell_type": "code",
   "execution_count": null,
   "id": "0209dcac",
   "metadata": {},
   "outputs": [],
   "source": []
  }
 ],
 "metadata": {
  "kernelspec": {
   "display_name": "Python 3 (ipykernel)",
   "language": "python",
   "name": "python3"
  },
  "language_info": {
   "codemirror_mode": {
    "name": "ipython",
    "version": 3
   },
   "file_extension": ".py",
   "mimetype": "text/x-python",
   "name": "python",
   "nbconvert_exporter": "python",
   "pygments_lexer": "ipython3",
   "version": "3.10.9"
  }
 },
 "nbformat": 4,
 "nbformat_minor": 5
}

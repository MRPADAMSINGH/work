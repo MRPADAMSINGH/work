{
 "cells": [
  {
   "cell_type": "raw",
   "id": "c75b2181",
   "metadata": {},
   "source": []
  },
  {
   "cell_type": "code",
   "execution_count": 11,
   "id": "efd990a1",
   "metadata": {},
   "outputs": [
    {
     "data": {
      "text/plain": [
       "'Sum of a and b: 16'"
      ]
     },
     "execution_count": 11,
     "metadata": {},
     "output_type": "execute_result"
    }
   ],
   "source": []
  },
  {
   "cell_type": "code",
   "execution_count": 14,
   "id": "06f58f12",
   "metadata": {},
   "outputs": [
    {
     "name": "stdout",
     "output_type": "stream",
     "text": [
      "Sum of a and b: 16\n"
     ]
    }
   ],
   "source": [
    "def add(a=11,b=5):\n",
    "    print(f\"Sum of a and b: {a+b}\")\n",
    "add()\n"
   ]
  },
  {
   "cell_type": "code",
   "execution_count": 16,
   "id": "c96e95e9",
   "metadata": {},
   "outputs": [
    {
     "data": {
      "text/plain": [
       "'Sum of a and b: 20'"
      ]
     },
     "execution_count": 16,
     "metadata": {},
     "output_type": "execute_result"
    }
   ],
   "source": [
    "def add(a=15,b=5):\n",
    "    return(f\"Sum of a and b: {a+b}\")\n",
    "add()"
   ]
  },
  {
   "cell_type": "code",
   "execution_count": 21,
   "id": "34d8f42c",
   "metadata": {},
   "outputs": [],
   "source": [
    "def add(a,b):\n",
    "    return(f\"Sum of a and b: {a+b}\")"
   ]
  },
  {
   "cell_type": "code",
   "execution_count": 23,
   "id": "128b7720",
   "metadata": {},
   "outputs": [
    {
     "data": {
      "text/plain": [
       "'Sum of a and b: 704'"
      ]
     },
     "execution_count": 23,
     "metadata": {},
     "output_type": "execute_result"
    }
   ],
   "source": [
    "add(150,554)"
   ]
  },
  {
   "cell_type": "code",
   "execution_count": 28,
   "id": "b1482c27",
   "metadata": {},
   "outputs": [
    {
     "data": {
      "text/plain": [
       "'Square of 7 is : 49'"
      ]
     },
     "execution_count": 28,
     "metadata": {},
     "output_type": "execute_result"
    }
   ],
   "source": [
    "def sqr(num):\n",
    "    return(f\"Square of {num} is : {num*num}\")\n",
    "sqr(7)"
   ]
  },
  {
   "cell_type": "code",
   "execution_count": null,
   "id": "247c8f33",
   "metadata": {},
   "outputs": [],
   "source": []
  },
  {
   "cell_type": "code",
   "execution_count": 29,
   "id": "bcca638a",
   "metadata": {},
   "outputs": [],
   "source": [
    "import math"
   ]
  },
  {
   "cell_type": "code",
   "execution_count": 31,
   "id": "9dd32a04",
   "metadata": {},
   "outputs": [
    {
     "name": "stdout",
     "output_type": "stream",
     "text": [
      "Square root of 16 is: 4.0\n"
     ]
    }
   ],
   "source": [
    "square_root=math.sqrt(16)\n",
    "print(\"Square root of 16 is:\", square_root)"
   ]
  },
  {
   "cell_type": "code",
   "execution_count": 32,
   "id": "3c418280",
   "metadata": {},
   "outputs": [
    {
     "name": "stdout",
     "output_type": "stream",
     "text": [
      "Square root of 16 is: 4.0\n"
     ]
    }
   ],
   "source": [
    "from math import *\n",
    "square_root=sqrt(16)\n",
    "print(\"Square root of 16 is:\", square_root)"
   ]
  },
  {
   "cell_type": "code",
   "execution_count": 35,
   "id": "42323f81",
   "metadata": {},
   "outputs": [
    {
     "name": "stdout",
     "output_type": "stream",
     "text": [
      " 4 to the power 5 is : 1024.0\n"
     ]
    }
   ],
   "source": [
    "power = pow(4,5)\n",
    "print(f\" 4 to the power 5 is : {power}\")"
   ]
  },
  {
   "cell_type": "code",
   "execution_count": 55,
   "id": "764e375b",
   "metadata": {},
   "outputs": [
    {
     "data": {
      "text/plain": [
       "120"
      ]
     },
     "execution_count": 55,
     "metadata": {},
     "output_type": "execute_result"
    }
   ],
   "source": [
    "def factorial(x):\n",
    "    if x == 1:\n",
    "        return 1\n",
    "    else:\n",
    "        return (x*factorial(x-1))\n",
    "factorial(5)"
   ]
  },
  {
   "cell_type": "code",
   "execution_count": 58,
   "id": "0500b2a0",
   "metadata": {},
   "outputs": [
    {
     "name": "stdout",
     "output_type": "stream",
     "text": [
      "9\n"
     ]
    }
   ],
   "source": [
    "adder = lambda a,b:a+b\n",
    "print(adder(4,5))"
   ]
  },
  {
   "cell_type": "markdown",
   "id": "29b9c781",
   "metadata": {},
   "source": [
    "# Lambda"
   ]
  },
  {
   "cell_type": "code",
   "execution_count": 59,
   "id": "69c04e49",
   "metadata": {},
   "outputs": [
    {
     "name": "stdout",
     "output_type": "stream",
     "text": [
      "<function <lambda> at 0x0000019BE62C2A70>\n"
     ]
    }
   ],
   "source": [
    "a = \"Lambda\"\n",
    "print(lambda a:print(a)) #if we want to know the memory loaction then we can go with this using of print."
   ]
  },
  {
   "cell_type": "code",
   "execution_count": 60,
   "id": "0c86f10f",
   "metadata": {},
   "outputs": [
    {
     "name": "stdout",
     "output_type": "stream",
     "text": [
      "Lambda\n"
     ]
    }
   ],
   "source": [
    "a = \"Lambda\"\n",
    "(lambda a:print(a)) (a) #if you want exact Output the go with this."
   ]
  },
  {
   "cell_type": "code",
   "execution_count": null,
   "id": "9a419649",
   "metadata": {},
   "outputs": [],
   "source": []
  }
 ],
 "metadata": {
  "kernelspec": {
   "display_name": "Python 3 (ipykernel)",
   "language": "python",
   "name": "python3"
  },
  "language_info": {
   "codemirror_mode": {
    "name": "ipython",
    "version": 3
   },
   "file_extension": ".py",
   "mimetype": "text/x-python",
   "name": "python",
   "nbconvert_exporter": "python",
   "pygments_lexer": "ipython3",
   "version": "3.10.9"
  }
 },
 "nbformat": 4,
 "nbformat_minor": 5
}

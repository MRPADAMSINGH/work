{
 "cells": [
  {
   "cell_type": "code",
   "execution_count": 1,
   "id": "3d032d75",
   "metadata": {},
   "outputs": [
    {
     "name": "stdout",
     "output_type": "stream",
     "text": [
      "Hello! Mr Pglu\n"
     ]
    }
   ],
   "source": [
    "print('Hello! Mr Pglu')"
   ]
  },
  {
   "cell_type": "code",
   "execution_count": 22,
   "id": "fa13e909",
   "metadata": {
    "scrolled": true
   },
   "outputs": [
    {
     "name": "stdout",
     "output_type": "stream",
     "text": [
      "Enter the first number: 50\n",
      "Enter the second number: 3\n",
      "Addition 53.0\n",
      "Subtraction 47.0\n",
      "Division 16.666666666666668\n",
      "Modulus 2.0\n"
     ]
    }
   ],
   "source": [
    "num1 = float(input('Enter the first number: '))\n",
    "num2 = float(input('Enter the second number: '))\n",
    "\n",
    "Addition = num1 + num2\n",
    "Subtraction = num1 - num2\n",
    "Division = num1 / num2\n",
    "Modulus = num1 % num2\n",
    "print('Addition' ,Addition)\n",
    "print('Subtraction' ,Subtraction)\n",
    "print('Division' ,Division)\n",
    "print('Modulus' ,Modulus)"
   ]
  },
  {
   "cell_type": "code",
   "execution_count": null,
   "id": "17c01606",
   "metadata": {},
   "outputs": [],
   "source": []
  },
  {
   "cell_type": "code",
   "execution_count": null,
   "id": "0073b44b",
   "metadata": {},
   "outputs": [],
   "source": []
  },
  {
   "cell_type": "code",
   "execution_count": null,
   "id": "52e896e2",
   "metadata": {},
   "outputs": [],
   "source": []
  }
 ],
 "metadata": {
  "kernelspec": {
   "display_name": "Python 3 (ipykernel)",
   "language": "python",
   "name": "python3"
  },
  "language_info": {
   "codemirror_mode": {
    "name": "ipython",
    "version": 3
   },
   "file_extension": ".py",
   "mimetype": "text/x-python",
   "name": "python",
   "nbconvert_exporter": "python",
   "pygments_lexer": "ipython3",
   "version": "3.10.9"
  }
 },
 "nbformat": 4,
 "nbformat_minor": 5
}

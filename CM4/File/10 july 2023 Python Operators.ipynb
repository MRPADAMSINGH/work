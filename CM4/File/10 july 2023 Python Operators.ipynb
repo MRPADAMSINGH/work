{
 "cells": [
  {
   "cell_type": "markdown",
   "id": "a35e40d5",
   "metadata": {},
   "source": [
    "# Python Operators"
   ]
  },
  {
   "cell_type": "markdown",
   "id": "67bcd0a8",
   "metadata": {},
   "source": [
    "### Arithmetic operators"
   ]
  },
  {
   "cell_type": "code",
   "execution_count": 13,
   "id": "c1ced3ff",
   "metadata": {},
   "outputs": [
    {
     "name": "stdout",
     "output_type": "stream",
     "text": [
      "Enter the first number: 11\n",
      "Enter the second number: 2\n",
      "Addition 13\n",
      "Subtraction 9\n",
      "Division 5.5\n",
      "Modulus 1\n",
      "Floor Division 5\n",
      "Multiplication  22\n",
      "Exponentiation  121\n"
     ]
    }
   ],
   "source": [
    "num1 = int(input('Enter the first number: '))\n",
    "num2 = int(input('Enter the second number: '))\n",
    "\n",
    "Addition = num1 + num2\n",
    "Subtraction = num1 - num2\n",
    "Division = num1 / num2\n",
    "Modulus = num1 % num2\n",
    "FloorDivision = num1 // num2\n",
    "Multiplication  = num1 * num2\n",
    "Exponentiation = num1 ** num2\n",
    "print('Addition' ,Addition)\n",
    "print('Subtraction' ,Subtraction)\n",
    "print('Division' ,Division)\n",
    "print('Modulus' ,Modulus)\n",
    "print('Floor Division',FloorDivision)\n",
    "print('Multiplication ',Multiplication)\n",
    "print('Exponentiation ',Exponentiation )"
   ]
  },
  {
   "cell_type": "markdown",
   "id": "f0550c76",
   "metadata": {},
   "source": [
    "### Assignment operators"
   ]
  },
  {
   "cell_type": "code",
   "execution_count": 17,
   "id": "a14afb30",
   "metadata": {},
   "outputs": [
    {
     "name": "stdout",
     "output_type": "stream",
     "text": [
      "Addition: 8\n",
      "Subtraction: 5\n",
      "Multiplication: 15\n",
      "Division: 5.0\n",
      "Floor Division: 1.0\n",
      "Modulo: 1.0\n",
      "Exponentiation: 1.0\n"
     ]
    }
   ],
   "source": [
    "x = 5\n",
    "y = 3\n",
    "\n",
    "# Addition\n",
    "x += y  \n",
    "print(\"Addition:\", x)  \n",
    "\n",
    "# Subtraction\n",
    "x -= y  \n",
    "print(\"Subtraction:\", x)  \n",
    "\n",
    "# Multiplication\n",
    "x *= y  \n",
    "print(\"Multiplication:\", x) \n",
    "\n",
    "# Division\n",
    "x /= y  \n",
    "print(\"Division:\", x) \n",
    "\n",
    "# Floor Division\n",
    "x //= y  \n",
    "print(\"Floor Division:\", x)  \n",
    "\n",
    "# Modulo\n",
    "x %= y  \n",
    "print(\"Modulo:\", x) \n",
    "\n",
    "# Exponentiation\n",
    "x **= y \n",
    "print(\"Exponentiation:\", x)  \n"
   ]
  },
  {
   "cell_type": "markdown",
   "id": "4c5bcd15",
   "metadata": {},
   "source": [
    "x =5\n",
    "x &= 3\n",
    "print(x)\n",
    "\n",
    "x |= 3\n",
    "print(x)\n",
    "\n",
    "x ^= 3\n",
    "print(x)\n",
    "\n",
    "x >>= 3\n",
    "print(x)\n",
    "\n",
    "x <<= 3\n",
    "print(x)"
   ]
  },
  {
   "cell_type": "markdown",
   "id": "e8d8fb7c",
   "metadata": {},
   "source": [
    "### Comparison Operators"
   ]
  },
  {
   "cell_type": "code",
   "execution_count": 20,
   "id": "fd72311c",
   "metadata": {},
   "outputs": [
    {
     "name": "stdout",
     "output_type": "stream",
     "text": [
      "Equal to: False\n",
      "Not equal to: True\n",
      "Greater than: True\n",
      "Less than: False\n",
      "Greater than or equal to: True\n",
      "Less than or equal to: False\n"
     ]
    }
   ],
   "source": [
    "x = 5\n",
    "y = 3\n",
    "\n",
    "# Equal to\n",
    "print(\"Equal to:\", x == y) \n",
    "\n",
    "# Not equal to\n",
    "print(\"Not equal to:\", x != y)  \n",
    "\n",
    "# Greater than\n",
    "print(\"Greater than:\", x > y) \n",
    "\n",
    "# Less than\n",
    "print(\"Less than:\", x < y)  \n",
    "\n",
    "# Greater than or equal to\n",
    "print(\"Greater than or equal to:\", x >= y)\n",
    "\n",
    "# Less than or equal to\n",
    "print(\"Less than or equal to:\", x <= y)  \n"
   ]
  },
  {
   "cell_type": "markdown",
   "id": "6c814549",
   "metadata": {},
   "source": [
    "### Logical Operators"
   ]
  },
  {
   "cell_type": "code",
   "execution_count": 21,
   "id": "ece10789",
   "metadata": {},
   "outputs": [
    {
     "name": "stdout",
     "output_type": "stream",
     "text": [
      "Logical AND: True\n",
      "Logical OR: True\n",
      "Logical NOT: False\n"
     ]
    }
   ],
   "source": [
    "x = 5\n",
    "y = 3\n",
    "\n",
    "# Logical AND\n",
    "print(\"Logical AND:\", x > 0 and y < 10)  \n",
    "\n",
    "# Logical OR\n",
    "print(\"Logical OR:\", x > 0 or y > 10)  \n",
    "\n",
    "# Logical NOT\n",
    "print(\"Logical NOT:\", not(x > y))  \n"
   ]
  },
  {
   "cell_type": "markdown",
   "id": "649be5a3",
   "metadata": {},
   "source": [
    "### Identity Operators"
   ]
  },
  {
   "cell_type": "code",
   "execution_count": 22,
   "id": "81a9dffd",
   "metadata": {},
   "outputs": [
    {
     "name": "stdout",
     "output_type": "stream",
     "text": [
      "Identity Operator 'is': False\n",
      "Identity Operator 'is': True\n",
      "Identity Operator 'is not': True\n",
      "Identity Operator 'is not': False\n"
     ]
    }
   ],
   "source": [
    "x = [1, 2, 3]\n",
    "y = [1, 2, 3]\n",
    "z = x\n",
    "\n",
    "# Identity Operator 'is'\n",
    "print(\"Identity Operator 'is':\", x is y)  \n",
    "print(\"Identity Operator 'is':\", x is z) \n",
    "\n",
    "# Identity Operator 'is not'\n",
    "print(\"Identity Operator 'is not':\", x is not y)\n",
    "print(\"Identity Operator 'is not':\", x is not z) \n"
   ]
  },
  {
   "cell_type": "markdown",
   "id": "e01a0cf3",
   "metadata": {},
   "source": [
    "### Membership Operators"
   ]
  },
  {
   "cell_type": "code",
   "execution_count": 24,
   "id": "66e30ac6",
   "metadata": {},
   "outputs": [
    {
     "name": "stdout",
     "output_type": "stream",
     "text": [
      "Membership Operator 'in': True\n",
      "Membership Operator 'in': False\n",
      "Membership Operator 'not in': True\n",
      "Membership Operator 'not in': False\n"
     ]
    }
   ],
   "source": [
    "fruits = ['apple', 'banana', 'orange']\n",
    "\n",
    "# Membership Operator 'in'\n",
    "print(\"Membership Operator 'in':\", 'apple' in fruits) \n",
    "print(\"Membership Operator 'in':\", 'grape' in fruits) \n",
    "\n",
    "# Membership Operator 'not in'\n",
    "print(\"Membership Operator 'not in':\", 'kiwi' not in fruits)\n",
    "print(\"Membership Operator 'not in':\", 'banana' not in fruits) \n"
   ]
  },
  {
   "cell_type": "markdown",
   "id": "950c610f",
   "metadata": {},
   "source": [
    "### Bitwise Operators"
   ]
  },
  {
   "cell_type": "code",
   "execution_count": 25,
   "id": "d7d74f5a",
   "metadata": {},
   "outputs": [
    {
     "name": "stdout",
     "output_type": "stream",
     "text": [
      "Bitwise AND: 1\n",
      "Bitwise OR: 7\n",
      "Bitwise XOR: 6\n",
      "Bitwise NOT (a): -6\n",
      "Bitwise NOT (b): -4\n",
      "Left Shift: 20\n",
      "Right Shift: 2\n"
     ]
    }
   ],
   "source": [
    "a = 5    # 0101 in binary\n",
    "b = 3    # 0011 in binary\n",
    "\n",
    "# Bitwise AND\n",
    "result_and = a & b\n",
    "print(\"Bitwise AND:\", result_and)\n",
    "\n",
    "# Bitwise OR\n",
    "result_or = a | b\n",
    "print(\"Bitwise OR:\", result_or)  \n",
    "\n",
    "# Bitwise XOR\n",
    "result_xor = a ^ b\n",
    "print(\"Bitwise XOR:\", result_xor)  \n",
    "\n",
    "# Bitwise NOT\n",
    "result_not_a = ~a\n",
    "result_not_b = ~b\n",
    "print(\"Bitwise NOT (a):\", result_not_a) \n",
    "print(\"Bitwise NOT (b):\", result_not_b) \n",
    "\n",
    "# Left Shift\n",
    "result_left_shift = a << 2\n",
    "print(\"Left Shift:\", result_left_shift) \n",
    "\n",
    "# Right Shift\n",
    "result_right_shift = a >> 1\n",
    "print(\"Right Shift:\", result_right_shift)  \n"
   ]
  },
  {
   "cell_type": "markdown",
   "id": "5050f73b",
   "metadata": {},
   "source": [
    "### Python Conditions and If statements"
   ]
  },
  {
   "cell_type": "code",
   "execution_count": 36,
   "id": "a128f6b6",
   "metadata": {},
   "outputs": [
    {
     "name": "stdout",
     "output_type": "stream",
     "text": [
      "If statement\n",
      "x is greater than y\n",
      "If-else statement\n",
      "x is greater than y\n",
      "If-elif-else statement\n",
      "x is greater than y\n"
     ]
    }
   ],
   "source": [
    "x = 10\n",
    "y = 3\n",
    "\n",
    "print('If statement', )\n",
    "if x > y:\n",
    "    print(\"x is greater than y\")\n",
    "\n",
    "print('If-else statement')\n",
    "if x > y:\n",
    "    print(\"x is greater than y\")\n",
    "else:\n",
    "    print(\"x is not greater than y\")\n",
    "\n",
    "print('If-elif-else statement')\n",
    "if x > y:\n",
    "    print(\"x is greater than y\")\n",
    "elif x == y:\n",
    "    print(\"x is equal to y\")\n",
    "else:\n",
    "    print(\"x is less than y\")\n"
   ]
  },
  {
   "cell_type": "code",
   "execution_count": null,
   "id": "9a10f678",
   "metadata": {},
   "outputs": [],
   "source": [
    "\n"
   ]
  }
 ],
 "metadata": {
  "kernelspec": {
   "display_name": "Python 3 (ipykernel)",
   "language": "python",
   "name": "python3"
  },
  "language_info": {
   "codemirror_mode": {
    "name": "ipython",
    "version": 3
   },
   "file_extension": ".py",
   "mimetype": "text/x-python",
   "name": "python",
   "nbconvert_exporter": "python",
   "pygments_lexer": "ipython3",
   "version": "3.10.9"
  }
 },
 "nbformat": 4,
 "nbformat_minor": 5
}

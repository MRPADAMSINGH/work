{
 "cells": [
  {
   "cell_type": "markdown",
   "id": "173fd180",
   "metadata": {},
   "source": [
    "# Write a Python program to find the factorial of numbars."
   ]
  },
  {
   "cell_type": "code",
   "execution_count": 55,
   "id": "c2a1b6d7",
   "metadata": {},
   "outputs": [
    {
     "name": "stdout",
     "output_type": "stream",
     "text": [
      "Factorial of number: 120\n"
     ]
    }
   ],
   "source": [
    "\n",
    "def fc(n):\n",
    "    factorial = 1\n",
    "    for i in range(1, n+1 ):\n",
    "        factorial *= i\n",
    "    print('Factorial of number:', factorial)\n",
    "fc(5)"
   ]
  },
  {
   "cell_type": "code",
   "execution_count": 66,
   "id": "4f238d67",
   "metadata": {},
   "outputs": [
    {
     "name": "stdout",
     "output_type": "stream",
     "text": [
      "Insert You Number: 5\n",
      "The factorial of 5 is 120\n"
     ]
    }
   ],
   "source": [
    "def fc(n):\n",
    "    factorial = 1\n",
    "    for i in range(1, n+1 ):\n",
    "        factorial *= i\n",
    "    return factorial\n",
    "    \n",
    "n = int(input('Insert You Number: '))\n",
    "result = fc(n)\n",
    "print(\"The factorial of\", n, \"is\", result)\n"
   ]
  },
  {
   "cell_type": "markdown",
   "id": "f864bde5",
   "metadata": {},
   "source": [
    "# Write a Python program print the fibonacci series of a number."
   ]
  },
  {
   "cell_type": "code",
   "execution_count": 1,
   "id": "fb10ceca",
   "metadata": {},
   "outputs": [
    {
     "name": "stdout",
     "output_type": "stream",
     "text": [
      "0\n",
      "1\n",
      "1\n",
      "2\n",
      "3\n",
      "5\n",
      "8\n",
      "13\n",
      "21\n",
      "34\n"
     ]
    }
   ],
   "source": [
    "def fibonacci(n):\n",
    "  if n == 0:\n",
    "    return 0\n",
    "  elif n == 1:\n",
    "    return 1\n",
    "  else:\n",
    "    return fibonacci(n-1) + fibonacci(n-2)\n",
    "\n",
    "# Generate the first 10 numbers in the Fibonacci series\n",
    "for i in range(10):\n",
    "  print(fibonacci(i))"
   ]
  },
  {
   "cell_type": "code",
   "execution_count": null,
   "id": "cd58e046",
   "metadata": {},
   "outputs": [],
   "source": []
  },
  {
   "cell_type": "markdown",
   "id": "61516782",
   "metadata": {},
   "source": [
    "# Print a string using a print statement"
   ]
  },
  {
   "cell_type": "code",
   "execution_count": 70,
   "id": "610874e5",
   "metadata": {},
   "outputs": [
    {
     "name": "stdout",
     "output_type": "stream",
     "text": [
      "Hello Welcome To My World!!\n"
     ]
    }
   ],
   "source": [
    "print('Hello Welcome To My World!!')"
   ]
  },
  {
   "cell_type": "markdown",
   "id": "dacb38f3",
   "metadata": {},
   "source": [
    "# Print the given string using indentation ( space between characters)"
   ]
  },
  {
   "cell_type": "code",
   "execution_count": 3,
   "id": "27616230",
   "metadata": {},
   "outputs": [
    {
     "name": "stdout",
     "output_type": "stream",
     "text": [
      " H  e  l  l  o  ,     W  o  r  l  d  ! \n"
     ]
    }
   ],
   "source": [
    "def print_with_indentation(string):\n",
    "    indented_string = \"\"\n",
    "    for i in string:\n",
    "        indented_string += \" \" + i + \" \"\n",
    "    print(indented_string)\n",
    "\n",
    "# Example usage:\n",
    "my_string = \"Hello, World!\"\n",
    "print_with_indentation(my_string)\n"
   ]
  },
  {
   "cell_type": "code",
   "execution_count": null,
   "id": "7e7e2687",
   "metadata": {},
   "outputs": [],
   "source": []
  }
 ],
 "metadata": {
  "kernelspec": {
   "display_name": "Python 3 (ipykernel)",
   "language": "python",
   "name": "python3"
  },
  "language_info": {
   "codemirror_mode": {
    "name": "ipython",
    "version": 3
   },
   "file_extension": ".py",
   "mimetype": "text/x-python",
   "name": "python",
   "nbconvert_exporter": "python",
   "pygments_lexer": "ipython3",
   "version": "3.10.9"
  }
 },
 "nbformat": 4,
 "nbformat_minor": 5
}

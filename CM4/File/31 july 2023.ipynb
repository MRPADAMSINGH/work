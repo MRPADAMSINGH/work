{
 "cells": [
  {
   "cell_type": "code",
   "execution_count": 1,
   "id": "92a750b9",
   "metadata": {},
   "outputs": [
    {
     "name": "stdout",
     "output_type": "stream",
     "text": [
      "1\n",
      "2\n",
      "3\n",
      "4\n",
      "5\n",
      "6\n",
      "7\n",
      "8\n",
      "9\n",
      "10\n"
     ]
    }
   ],
   "source": [
    "for i in range(1,11):\n",
    "    print(i)"
   ]
  },
  {
   "cell_type": "code",
   "execution_count": 11,
   "id": "ad97fbeb",
   "metadata": {},
   "outputs": [
    {
     "name": "stdout",
     "output_type": "stream",
     "text": [
      "1\n",
      "2\n",
      "3\n",
      "4\n",
      "Five\n",
      "6\n",
      "7\n",
      "8\n",
      "9\n",
      "10 is greater then 10\n"
     ]
    }
   ],
   "source": [
    "for i in range(1,11):\n",
    "    if i == 5:\n",
    "        print(\"Five\")\n",
    "        continue\n",
    "    elif i == 9:\n",
    "        pass\n",
    "    elif i>=10:\n",
    "        print(f\"{i} is greater then {i}\")\n",
    "        break\n",
    "    print(i)"
   ]
  },
  {
   "cell_type": "code",
   "execution_count": 44,
   "id": "bb41b5e8",
   "metadata": {},
   "outputs": [
    {
     "name": "stdout",
     "output_type": "stream",
     "text": [
      "120\n"
     ]
    }
   ],
   "source": [
    "def fac(n):\n",
    "    factorial=1\n",
    "    for i in range(1,n+1):\n",
    "        factorial *= i\n",
    "    return factorial\n",
    "result = fac(5)\n",
    "print(result)"
   ]
  },
  {
   "cell_type": "code",
   "execution_count": 37,
   "id": "34a5f56e",
   "metadata": {},
   "outputs": [
    {
     "name": "stdout",
     "output_type": "stream",
     "text": [
      "Insert You Number: 0\n",
      "NOT VALIDE\n",
      "The factorial of 0 is 1\n"
     ]
    }
   ],
   "source": [
    "n = int(input('Insert You Number: '))\n",
    "def fc(n):\n",
    "    factorial = 1\n",
    "    for i in range(1, n+1 ):\n",
    "        factorial *= i\n",
    "    return factorial\n",
    "result = fc(n)\n",
    "\n",
    "print(\"The factorial of\", n, \"is\", result)"
   ]
  },
  {
   "cell_type": "code",
   "execution_count": 45,
   "id": "64c72128",
   "metadata": {},
   "outputs": [
    {
     "name": "stdout",
     "output_type": "stream",
     "text": [
      "Insert You Number: 0\n",
      "The factorial of 0 is None\n"
     ]
    }
   ],
   "source": [
    "n = int(input('Insert You Number: '))\n",
    "def fc(n):\n",
    "    if n <=0:\n",
    "        pass\n",
    "    else:\n",
    "        factorial = 1\n",
    "        for i in range(1, n+1 ):\n",
    "            factorial *= i\n",
    "        return factorial\n",
    "result = fc(n)\n",
    "print(\"The factorial of\", n, \"is\", result)\n",
    "        "
   ]
  },
  {
   "cell_type": "code",
   "execution_count": null,
   "id": "67bda008",
   "metadata": {},
   "outputs": [],
   "source": []
  }
 ],
 "metadata": {
  "kernelspec": {
   "display_name": "Python 3 (ipykernel)",
   "language": "python",
   "name": "python3"
  },
  "language_info": {
   "codemirror_mode": {
    "name": "ipython",
    "version": 3
   },
   "file_extension": ".py",
   "mimetype": "text/x-python",
   "name": "python",
   "nbconvert_exporter": "python",
   "pygments_lexer": "ipython3",
   "version": "3.10.9"
  }
 },
 "nbformat": 4,
 "nbformat_minor": 5
}
